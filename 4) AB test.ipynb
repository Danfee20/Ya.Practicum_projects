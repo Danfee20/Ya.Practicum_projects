{
 "cells": [
  {
   "cell_type": "markdown",
   "metadata": {},
   "source": [
    "# Анализ A/B теста"
   ]
  },
  {
   "cell_type": "markdown",
   "metadata": {
    "toc": true
   },
   "source": [
    "<h1>Содержание<span class=\"tocSkip\"></span></h1>\n",
    "<div class=\"toc\"><ul class=\"toc-item\"><li><span><a href=\"#Описание\" data-toc-modified-id=\"Описание-1\"><span class=\"toc-item-num\">1&nbsp;&nbsp;</span>Описание</a></span></li><li><span><a href=\"#Приоритизация-гипотез\" data-toc-modified-id=\"Приоритизация-гипотез-2\"><span class=\"toc-item-num\">2&nbsp;&nbsp;</span>Приоритизация гипотез</a></span><ul class=\"toc-item\"><li><span><a href=\"#Вывод\" data-toc-modified-id=\"Вывод-2.1\"><span class=\"toc-item-num\">2.1&nbsp;&nbsp;</span>Вывод</a></span></li></ul></li><li><span><a href=\"#Анализ-A/B-теста\" data-toc-modified-id=\"Анализ-A/B-теста-3\"><span class=\"toc-item-num\">3&nbsp;&nbsp;</span>Анализ A/B теста</a></span><ul class=\"toc-item\"><li><span><a href=\"#Чтение-и-предобработка-датафреймов\" data-toc-modified-id=\"Чтение-и-предобработка-датафреймов-3.1\"><span class=\"toc-item-num\">3.1&nbsp;&nbsp;</span>Чтение и предобработка датафреймов</a></span></li><li><span><a href=\"#Обработка-сырых-данных\" data-toc-modified-id=\"Обработка-сырых-данных-3.2\"><span class=\"toc-item-num\">3.2&nbsp;&nbsp;</span>Обработка сырых данных</a></span></li><li><span><a href=\"#Обработка-очищенных-данных\" data-toc-modified-id=\"Обработка-очищенных-данных-3.3\"><span class=\"toc-item-num\">3.3&nbsp;&nbsp;</span>Обработка очищенных данных</a></span></li></ul></li></ul></div>"
   ]
  },
  {
   "cell_type": "markdown",
   "metadata": {},
   "source": [
    "## Описание"
   ]
  },
  {
   "cell_type": "markdown",
   "metadata": {},
   "source": [
    "Мы — аналитики крупного интернет-магазина. Вместе с отделом маркетинга мы подготовили список гипотез для увеличения выручки. Наша задача - приоритизировать гипотезы, запустить A/B тест по наиболее перспективной и проанализировать его результаты.\n",
    "\n",
    "У нас есть 3 датасета:\n",
    "\n",
    "- 1 датасет с оценками гипотез для приоритизации.\n",
    "- 2 датасета с результатами A/B теста."
   ]
  },
  {
   "cell_type": "markdown",
   "metadata": {},
   "source": [
    "## Приоритизация гипотез"
   ]
  },
  {
   "cell_type": "markdown",
   "metadata": {},
   "source": [
    "Для начала, используя первый датасет, выполним приоритизацию гипотез."
   ]
  },
  {
   "cell_type": "code",
   "execution_count": 1,
   "metadata": {},
   "outputs": [],
   "source": [
    "import pandas as pd\n",
    "import numpy as np\n",
    "import scipy.stats as st\n",
    "import datetime\n",
    "import matplotlib.pyplot as plt\n",
    "import seaborn as sns"
   ]
  },
  {
   "cell_type": "code",
   "execution_count": 2,
   "metadata": {},
   "outputs": [
    {
     "data": {
      "text/html": [
       "<div>\n",
       "<style scoped>\n",
       "    .dataframe tbody tr th:only-of-type {\n",
       "        vertical-align: middle;\n",
       "    }\n",
       "\n",
       "    .dataframe tbody tr th {\n",
       "        vertical-align: top;\n",
       "    }\n",
       "\n",
       "    .dataframe thead th {\n",
       "        text-align: right;\n",
       "    }\n",
       "</style>\n",
       "<table border=\"1\" class=\"dataframe\">\n",
       "  <thead>\n",
       "    <tr style=\"text-align: right;\">\n",
       "      <th></th>\n",
       "      <th>Hypothesis</th>\n",
       "      <th>Reach</th>\n",
       "      <th>Impact</th>\n",
       "      <th>Confidence</th>\n",
       "      <th>Efforts</th>\n",
       "    </tr>\n",
       "  </thead>\n",
       "  <tbody>\n",
       "    <tr>\n",
       "      <th>0</th>\n",
       "      <td>Добавить два новых канала привлечения трафика, что позволит привлекать на 30% больше пользователей</td>\n",
       "      <td>3</td>\n",
       "      <td>10</td>\n",
       "      <td>8</td>\n",
       "      <td>6</td>\n",
       "    </tr>\n",
       "    <tr>\n",
       "      <th>1</th>\n",
       "      <td>Запустить собственную службу доставки, что сократит срок доставки заказов</td>\n",
       "      <td>2</td>\n",
       "      <td>5</td>\n",
       "      <td>4</td>\n",
       "      <td>10</td>\n",
       "    </tr>\n",
       "    <tr>\n",
       "      <th>2</th>\n",
       "      <td>Добавить блоки рекомендаций товаров на сайт интернет магазина, чтобы повысить конверсию и средний чек заказа</td>\n",
       "      <td>8</td>\n",
       "      <td>3</td>\n",
       "      <td>7</td>\n",
       "      <td>3</td>\n",
       "    </tr>\n",
       "    <tr>\n",
       "      <th>3</th>\n",
       "      <td>Изменить структура категорий, что увеличит конверсию, т.к. пользователи быстрее найдут нужный товар</td>\n",
       "      <td>8</td>\n",
       "      <td>3</td>\n",
       "      <td>3</td>\n",
       "      <td>8</td>\n",
       "    </tr>\n",
       "    <tr>\n",
       "      <th>4</th>\n",
       "      <td>Изменить цвет фона главной страницы, чтобы увеличить вовлеченность пользователей</td>\n",
       "      <td>3</td>\n",
       "      <td>1</td>\n",
       "      <td>1</td>\n",
       "      <td>1</td>\n",
       "    </tr>\n",
       "    <tr>\n",
       "      <th>5</th>\n",
       "      <td>Добавить страницу отзывов клиентов о магазине, что позволит увеличить количество заказов</td>\n",
       "      <td>3</td>\n",
       "      <td>2</td>\n",
       "      <td>2</td>\n",
       "      <td>3</td>\n",
       "    </tr>\n",
       "    <tr>\n",
       "      <th>6</th>\n",
       "      <td>Показать на главной странице баннеры с актуальными акциями и распродажами, чтобы увеличить конверсию</td>\n",
       "      <td>5</td>\n",
       "      <td>3</td>\n",
       "      <td>8</td>\n",
       "      <td>3</td>\n",
       "    </tr>\n",
       "    <tr>\n",
       "      <th>7</th>\n",
       "      <td>Добавить форму подписки на все основные страницы, чтобы собрать базу клиентов для email-рассылок</td>\n",
       "      <td>10</td>\n",
       "      <td>7</td>\n",
       "      <td>8</td>\n",
       "      <td>5</td>\n",
       "    </tr>\n",
       "    <tr>\n",
       "      <th>8</th>\n",
       "      <td>Запустить акцию, дающую скидку на товар в день рождения</td>\n",
       "      <td>1</td>\n",
       "      <td>9</td>\n",
       "      <td>9</td>\n",
       "      <td>5</td>\n",
       "    </tr>\n",
       "  </tbody>\n",
       "</table>\n",
       "</div>"
      ],
      "text/plain": [
       "                                                                                                     Hypothesis  \\\n",
       "0            Добавить два новых канала привлечения трафика, что позволит привлекать на 30% больше пользователей   \n",
       "1                                     Запустить собственную службу доставки, что сократит срок доставки заказов   \n",
       "2  Добавить блоки рекомендаций товаров на сайт интернет магазина, чтобы повысить конверсию и средний чек заказа   \n",
       "3           Изменить структура категорий, что увеличит конверсию, т.к. пользователи быстрее найдут нужный товар   \n",
       "4                              Изменить цвет фона главной страницы, чтобы увеличить вовлеченность пользователей   \n",
       "5                      Добавить страницу отзывов клиентов о магазине, что позволит увеличить количество заказов   \n",
       "6          Показать на главной странице баннеры с актуальными акциями и распродажами, чтобы увеличить конверсию   \n",
       "7              Добавить форму подписки на все основные страницы, чтобы собрать базу клиентов для email-рассылок   \n",
       "8                                                       Запустить акцию, дающую скидку на товар в день рождения   \n",
       "\n",
       "   Reach  Impact  Confidence  Efforts  \n",
       "0      3      10           8        6  \n",
       "1      2       5           4       10  \n",
       "2      8       3           7        3  \n",
       "3      8       3           3        8  \n",
       "4      3       1           1        1  \n",
       "5      3       2           2        3  \n",
       "6      5       3           8        3  \n",
       "7     10       7           8        5  \n",
       "8      1       9           9        5  "
      ]
     },
     "execution_count": 2,
     "metadata": {},
     "output_type": "execute_result"
    }
   ],
   "source": [
    "pd.set_option('display.max_colwidth', 120)\n",
    "hypothesis = pd.read_csv('hypothesis.csv')\n",
    "hypothesis"
   ]
  },
  {
   "cell_type": "markdown",
   "metadata": {},
   "source": [
    "У нас есть 9 гипотез с оцененными параметрами Reach, Impact, Confidence, Efforts.\n",
    "\n",
    "Для оценки гипотез будем использовать техники ICE и RICE. Начнем с ICE. Его формула: `Impact * Confidence / Efforts.`\n",
    "Добавим в нашу табличку новый столбец с оценкой по ICE."
   ]
  },
  {
   "cell_type": "code",
   "execution_count": 3,
   "metadata": {},
   "outputs": [
    {
     "data": {
      "text/html": [
       "<div>\n",
       "<style scoped>\n",
       "    .dataframe tbody tr th:only-of-type {\n",
       "        vertical-align: middle;\n",
       "    }\n",
       "\n",
       "    .dataframe tbody tr th {\n",
       "        vertical-align: top;\n",
       "    }\n",
       "\n",
       "    .dataframe thead th {\n",
       "        text-align: right;\n",
       "    }\n",
       "</style>\n",
       "<table border=\"1\" class=\"dataframe\">\n",
       "  <thead>\n",
       "    <tr style=\"text-align: right;\">\n",
       "      <th></th>\n",
       "      <th>Hypothesis</th>\n",
       "      <th>Reach</th>\n",
       "      <th>Impact</th>\n",
       "      <th>Confidence</th>\n",
       "      <th>Efforts</th>\n",
       "      <th>ICE_score</th>\n",
       "    </tr>\n",
       "  </thead>\n",
       "  <tbody>\n",
       "    <tr>\n",
       "      <th>8</th>\n",
       "      <td>Запустить акцию, дающую скидку на товар в день рождения</td>\n",
       "      <td>1</td>\n",
       "      <td>9</td>\n",
       "      <td>9</td>\n",
       "      <td>5</td>\n",
       "      <td>16.2</td>\n",
       "    </tr>\n",
       "    <tr>\n",
       "      <th>0</th>\n",
       "      <td>Добавить два новых канала привлечения трафика, что позволит привлекать на 30% больше пользователей</td>\n",
       "      <td>3</td>\n",
       "      <td>10</td>\n",
       "      <td>8</td>\n",
       "      <td>6</td>\n",
       "      <td>13.3</td>\n",
       "    </tr>\n",
       "    <tr>\n",
       "      <th>7</th>\n",
       "      <td>Добавить форму подписки на все основные страницы, чтобы собрать базу клиентов для email-рассылок</td>\n",
       "      <td>10</td>\n",
       "      <td>7</td>\n",
       "      <td>8</td>\n",
       "      <td>5</td>\n",
       "      <td>11.2</td>\n",
       "    </tr>\n",
       "    <tr>\n",
       "      <th>6</th>\n",
       "      <td>Показать на главной странице баннеры с актуальными акциями и распродажами, чтобы увеличить конверсию</td>\n",
       "      <td>5</td>\n",
       "      <td>3</td>\n",
       "      <td>8</td>\n",
       "      <td>3</td>\n",
       "      <td>8.0</td>\n",
       "    </tr>\n",
       "    <tr>\n",
       "      <th>2</th>\n",
       "      <td>Добавить блоки рекомендаций товаров на сайт интернет магазина, чтобы повысить конверсию и средний чек заказа</td>\n",
       "      <td>8</td>\n",
       "      <td>3</td>\n",
       "      <td>7</td>\n",
       "      <td>3</td>\n",
       "      <td>7.0</td>\n",
       "    </tr>\n",
       "    <tr>\n",
       "      <th>1</th>\n",
       "      <td>Запустить собственную службу доставки, что сократит срок доставки заказов</td>\n",
       "      <td>2</td>\n",
       "      <td>5</td>\n",
       "      <td>4</td>\n",
       "      <td>10</td>\n",
       "      <td>2.0</td>\n",
       "    </tr>\n",
       "    <tr>\n",
       "      <th>5</th>\n",
       "      <td>Добавить страницу отзывов клиентов о магазине, что позволит увеличить количество заказов</td>\n",
       "      <td>3</td>\n",
       "      <td>2</td>\n",
       "      <td>2</td>\n",
       "      <td>3</td>\n",
       "      <td>1.3</td>\n",
       "    </tr>\n",
       "    <tr>\n",
       "      <th>3</th>\n",
       "      <td>Изменить структура категорий, что увеличит конверсию, т.к. пользователи быстрее найдут нужный товар</td>\n",
       "      <td>8</td>\n",
       "      <td>3</td>\n",
       "      <td>3</td>\n",
       "      <td>8</td>\n",
       "      <td>1.1</td>\n",
       "    </tr>\n",
       "    <tr>\n",
       "      <th>4</th>\n",
       "      <td>Изменить цвет фона главной страницы, чтобы увеличить вовлеченность пользователей</td>\n",
       "      <td>3</td>\n",
       "      <td>1</td>\n",
       "      <td>1</td>\n",
       "      <td>1</td>\n",
       "      <td>1.0</td>\n",
       "    </tr>\n",
       "  </tbody>\n",
       "</table>\n",
       "</div>"
      ],
      "text/plain": [
       "                                                                                                     Hypothesis  \\\n",
       "8                                                       Запустить акцию, дающую скидку на товар в день рождения   \n",
       "0            Добавить два новых канала привлечения трафика, что позволит привлекать на 30% больше пользователей   \n",
       "7              Добавить форму подписки на все основные страницы, чтобы собрать базу клиентов для email-рассылок   \n",
       "6          Показать на главной странице баннеры с актуальными акциями и распродажами, чтобы увеличить конверсию   \n",
       "2  Добавить блоки рекомендаций товаров на сайт интернет магазина, чтобы повысить конверсию и средний чек заказа   \n",
       "1                                     Запустить собственную службу доставки, что сократит срок доставки заказов   \n",
       "5                      Добавить страницу отзывов клиентов о магазине, что позволит увеличить количество заказов   \n",
       "3           Изменить структура категорий, что увеличит конверсию, т.к. пользователи быстрее найдут нужный товар   \n",
       "4                              Изменить цвет фона главной страницы, чтобы увеличить вовлеченность пользователей   \n",
       "\n",
       "   Reach  Impact  Confidence  Efforts  ICE_score  \n",
       "8      1       9           9        5       16.2  \n",
       "0      3      10           8        6       13.3  \n",
       "7     10       7           8        5       11.2  \n",
       "6      5       3           8        3        8.0  \n",
       "2      8       3           7        3        7.0  \n",
       "1      2       5           4       10        2.0  \n",
       "5      3       2           2        3        1.3  \n",
       "3      8       3           3        8        1.1  \n",
       "4      3       1           1        1        1.0  "
      ]
     },
     "execution_count": 3,
     "metadata": {},
     "output_type": "execute_result"
    }
   ],
   "source": [
    "def ice_score(df, impact, confidence, efforts):\n",
    "    df['ICE_score'] = round((df[impact] * df[confidence]) / df[efforts], 1)\n",
    "    return df\n",
    "    \n",
    "hypothesis = ice_score(hypothesis, 'Impact', 'Confidence', 'Efforts')\n",
    "hypothesis.sort_values(by='ICE_score', ascending=False)"
   ]
  },
  {
   "cell_type": "markdown",
   "metadata": {},
   "source": [
    "Самыми перспективными, при оценки по данной методике оказались 9, 1 и 8 гипотезы. Однако параметр охвата у 9 и 1 достаточно низкие, что негативно скажется на их рейтинге при оценке по RICE. Сделаем новый расчет и убедимся в этом. Формула RICE: `Reach * Impact * Confidence / Efforts.`"
   ]
  },
  {
   "cell_type": "code",
   "execution_count": 4,
   "metadata": {},
   "outputs": [
    {
     "data": {
      "text/html": [
       "<div>\n",
       "<style scoped>\n",
       "    .dataframe tbody tr th:only-of-type {\n",
       "        vertical-align: middle;\n",
       "    }\n",
       "\n",
       "    .dataframe tbody tr th {\n",
       "        vertical-align: top;\n",
       "    }\n",
       "\n",
       "    .dataframe thead th {\n",
       "        text-align: right;\n",
       "    }\n",
       "</style>\n",
       "<table border=\"1\" class=\"dataframe\">\n",
       "  <thead>\n",
       "    <tr style=\"text-align: right;\">\n",
       "      <th></th>\n",
       "      <th>Hypothesis</th>\n",
       "      <th>Reach</th>\n",
       "      <th>Impact</th>\n",
       "      <th>Confidence</th>\n",
       "      <th>Efforts</th>\n",
       "      <th>ICE_score</th>\n",
       "      <th>RICE_score</th>\n",
       "    </tr>\n",
       "  </thead>\n",
       "  <tbody>\n",
       "    <tr>\n",
       "      <th>7</th>\n",
       "      <td>Добавить форму подписки на все основные страницы, чтобы собрать базу клиентов для email-рассылок</td>\n",
       "      <td>10</td>\n",
       "      <td>7</td>\n",
       "      <td>8</td>\n",
       "      <td>5</td>\n",
       "      <td>11.2</td>\n",
       "      <td>112.0</td>\n",
       "    </tr>\n",
       "    <tr>\n",
       "      <th>2</th>\n",
       "      <td>Добавить блоки рекомендаций товаров на сайт интернет магазина, чтобы повысить конверсию и средний чек заказа</td>\n",
       "      <td>8</td>\n",
       "      <td>3</td>\n",
       "      <td>7</td>\n",
       "      <td>3</td>\n",
       "      <td>7.0</td>\n",
       "      <td>56.0</td>\n",
       "    </tr>\n",
       "    <tr>\n",
       "      <th>0</th>\n",
       "      <td>Добавить два новых канала привлечения трафика, что позволит привлекать на 30% больше пользователей</td>\n",
       "      <td>3</td>\n",
       "      <td>10</td>\n",
       "      <td>8</td>\n",
       "      <td>6</td>\n",
       "      <td>13.3</td>\n",
       "      <td>40.0</td>\n",
       "    </tr>\n",
       "    <tr>\n",
       "      <th>6</th>\n",
       "      <td>Показать на главной странице баннеры с актуальными акциями и распродажами, чтобы увеличить конверсию</td>\n",
       "      <td>5</td>\n",
       "      <td>3</td>\n",
       "      <td>8</td>\n",
       "      <td>3</td>\n",
       "      <td>8.0</td>\n",
       "      <td>40.0</td>\n",
       "    </tr>\n",
       "    <tr>\n",
       "      <th>8</th>\n",
       "      <td>Запустить акцию, дающую скидку на товар в день рождения</td>\n",
       "      <td>1</td>\n",
       "      <td>9</td>\n",
       "      <td>9</td>\n",
       "      <td>5</td>\n",
       "      <td>16.2</td>\n",
       "      <td>16.2</td>\n",
       "    </tr>\n",
       "    <tr>\n",
       "      <th>3</th>\n",
       "      <td>Изменить структура категорий, что увеличит конверсию, т.к. пользователи быстрее найдут нужный товар</td>\n",
       "      <td>8</td>\n",
       "      <td>3</td>\n",
       "      <td>3</td>\n",
       "      <td>8</td>\n",
       "      <td>1.1</td>\n",
       "      <td>9.0</td>\n",
       "    </tr>\n",
       "    <tr>\n",
       "      <th>1</th>\n",
       "      <td>Запустить собственную службу доставки, что сократит срок доставки заказов</td>\n",
       "      <td>2</td>\n",
       "      <td>5</td>\n",
       "      <td>4</td>\n",
       "      <td>10</td>\n",
       "      <td>2.0</td>\n",
       "      <td>4.0</td>\n",
       "    </tr>\n",
       "    <tr>\n",
       "      <th>5</th>\n",
       "      <td>Добавить страницу отзывов клиентов о магазине, что позволит увеличить количество заказов</td>\n",
       "      <td>3</td>\n",
       "      <td>2</td>\n",
       "      <td>2</td>\n",
       "      <td>3</td>\n",
       "      <td>1.3</td>\n",
       "      <td>4.0</td>\n",
       "    </tr>\n",
       "    <tr>\n",
       "      <th>4</th>\n",
       "      <td>Изменить цвет фона главной страницы, чтобы увеличить вовлеченность пользователей</td>\n",
       "      <td>3</td>\n",
       "      <td>1</td>\n",
       "      <td>1</td>\n",
       "      <td>1</td>\n",
       "      <td>1.0</td>\n",
       "      <td>3.0</td>\n",
       "    </tr>\n",
       "  </tbody>\n",
       "</table>\n",
       "</div>"
      ],
      "text/plain": [
       "                                                                                                     Hypothesis  \\\n",
       "7              Добавить форму подписки на все основные страницы, чтобы собрать базу клиентов для email-рассылок   \n",
       "2  Добавить блоки рекомендаций товаров на сайт интернет магазина, чтобы повысить конверсию и средний чек заказа   \n",
       "0            Добавить два новых канала привлечения трафика, что позволит привлекать на 30% больше пользователей   \n",
       "6          Показать на главной странице баннеры с актуальными акциями и распродажами, чтобы увеличить конверсию   \n",
       "8                                                       Запустить акцию, дающую скидку на товар в день рождения   \n",
       "3           Изменить структура категорий, что увеличит конверсию, т.к. пользователи быстрее найдут нужный товар   \n",
       "1                                     Запустить собственную службу доставки, что сократит срок доставки заказов   \n",
       "5                      Добавить страницу отзывов клиентов о магазине, что позволит увеличить количество заказов   \n",
       "4                              Изменить цвет фона главной страницы, чтобы увеличить вовлеченность пользователей   \n",
       "\n",
       "   Reach  Impact  Confidence  Efforts  ICE_score  RICE_score  \n",
       "7     10       7           8        5       11.2       112.0  \n",
       "2      8       3           7        3        7.0        56.0  \n",
       "0      3      10           8        6       13.3        40.0  \n",
       "6      5       3           8        3        8.0        40.0  \n",
       "8      1       9           9        5       16.2        16.2  \n",
       "3      8       3           3        8        1.1         9.0  \n",
       "1      2       5           4       10        2.0         4.0  \n",
       "5      3       2           2        3        1.3         4.0  \n",
       "4      3       1           1        1        1.0         3.0  "
      ]
     },
     "execution_count": 4,
     "metadata": {},
     "output_type": "execute_result"
    }
   ],
   "source": [
    "def rice_score(df, reach, impact, confidence, efforts):\n",
    "    df['RICE_score'] = round((df[reach] * df[impact] * df[confidence]) / df[efforts], 1)\n",
    "    return df\n",
    "\n",
    "hypothesis = rice_score(hypothesis, 'Reach', 'Impact', 'Confidence', 'Efforts')\n",
    "hypothesis.sort_values(by='RICE_score', ascending=False)"
   ]
  },
  {
   "cell_type": "markdown",
   "metadata": {},
   "source": [
    "Как мы и ожидали, при оценки по RICE, наиболее перспективной оказалась 8 гипотеза (Добавить форму подписки на все основные страницы, чтобы собрать базу клиентов для email-рассылок). Ее мы и возьмем для A/B тестирования."
   ]
  },
  {
   "cell_type": "markdown",
   "metadata": {},
   "source": [
    "### Вывод"
   ]
  },
  {
   "cell_type": "markdown",
   "metadata": {},
   "source": [
    "Гипотезы были приоритизированы по 2 техникам: ICE и RICE. В результате, наиболее перспективной гипотезой оказалась гипотеза 8 - добавить форму подписки на все основные страницы, чтобы собрать базу клиентов для email-рассылок."
   ]
  },
  {
   "cell_type": "markdown",
   "metadata": {},
   "source": [
    "## Анализ A/B теста"
   ]
  },
  {
   "cell_type": "markdown",
   "metadata": {},
   "source": [
    "### Чтение и предобработка датафреймов"
   ]
  },
  {
   "cell_type": "markdown",
   "metadata": {},
   "source": [
    "Загрузим результаты нашего A/B тестирования. Мы подразумеваем, что перед ним был проведен A/A тест, проверена разбивка пользователей на группы, технических проблем с тестом не возникало."
   ]
  },
  {
   "cell_type": "code",
   "execution_count": 5,
   "metadata": {},
   "outputs": [
    {
     "data": {
      "text/html": [
       "<div>\n",
       "<style scoped>\n",
       "    .dataframe tbody tr th:only-of-type {\n",
       "        vertical-align: middle;\n",
       "    }\n",
       "\n",
       "    .dataframe tbody tr th {\n",
       "        vertical-align: top;\n",
       "    }\n",
       "\n",
       "    .dataframe thead th {\n",
       "        text-align: right;\n",
       "    }\n",
       "</style>\n",
       "<table border=\"1\" class=\"dataframe\">\n",
       "  <thead>\n",
       "    <tr style=\"text-align: right;\">\n",
       "      <th></th>\n",
       "      <th>transactionId</th>\n",
       "      <th>visitorId</th>\n",
       "      <th>date</th>\n",
       "      <th>revenue</th>\n",
       "      <th>group</th>\n",
       "    </tr>\n",
       "  </thead>\n",
       "  <tbody>\n",
       "    <tr>\n",
       "      <th>0</th>\n",
       "      <td>3667963787</td>\n",
       "      <td>3312258926</td>\n",
       "      <td>2019-08-15</td>\n",
       "      <td>1650</td>\n",
       "      <td>B</td>\n",
       "    </tr>\n",
       "    <tr>\n",
       "      <th>1</th>\n",
       "      <td>2804400009</td>\n",
       "      <td>3642806036</td>\n",
       "      <td>2019-08-15</td>\n",
       "      <td>730</td>\n",
       "      <td>B</td>\n",
       "    </tr>\n",
       "    <tr>\n",
       "      <th>2</th>\n",
       "      <td>2961555356</td>\n",
       "      <td>4069496402</td>\n",
       "      <td>2019-08-15</td>\n",
       "      <td>400</td>\n",
       "      <td>A</td>\n",
       "    </tr>\n",
       "    <tr>\n",
       "      <th>3</th>\n",
       "      <td>3797467345</td>\n",
       "      <td>1196621759</td>\n",
       "      <td>2019-08-15</td>\n",
       "      <td>9759</td>\n",
       "      <td>B</td>\n",
       "    </tr>\n",
       "    <tr>\n",
       "      <th>4</th>\n",
       "      <td>2282983706</td>\n",
       "      <td>2322279887</td>\n",
       "      <td>2019-08-15</td>\n",
       "      <td>2308</td>\n",
       "      <td>B</td>\n",
       "    </tr>\n",
       "  </tbody>\n",
       "</table>\n",
       "</div>"
      ],
      "text/plain": [
       "   transactionId   visitorId        date  revenue group\n",
       "0     3667963787  3312258926  2019-08-15     1650     B\n",
       "1     2804400009  3642806036  2019-08-15      730     B\n",
       "2     2961555356  4069496402  2019-08-15      400     A\n",
       "3     3797467345  1196621759  2019-08-15     9759     B\n",
       "4     2282983706  2322279887  2019-08-15     2308     B"
      ]
     },
     "metadata": {},
     "output_type": "display_data"
    },
    {
     "data": {
      "text/html": [
       "<div>\n",
       "<style scoped>\n",
       "    .dataframe tbody tr th:only-of-type {\n",
       "        vertical-align: middle;\n",
       "    }\n",
       "\n",
       "    .dataframe tbody tr th {\n",
       "        vertical-align: top;\n",
       "    }\n",
       "\n",
       "    .dataframe thead th {\n",
       "        text-align: right;\n",
       "    }\n",
       "</style>\n",
       "<table border=\"1\" class=\"dataframe\">\n",
       "  <thead>\n",
       "    <tr style=\"text-align: right;\">\n",
       "      <th></th>\n",
       "      <th>date</th>\n",
       "      <th>group</th>\n",
       "      <th>visitors</th>\n",
       "    </tr>\n",
       "  </thead>\n",
       "  <tbody>\n",
       "    <tr>\n",
       "      <th>0</th>\n",
       "      <td>2019-08-01</td>\n",
       "      <td>A</td>\n",
       "      <td>719</td>\n",
       "    </tr>\n",
       "    <tr>\n",
       "      <th>1</th>\n",
       "      <td>2019-08-02</td>\n",
       "      <td>A</td>\n",
       "      <td>619</td>\n",
       "    </tr>\n",
       "    <tr>\n",
       "      <th>2</th>\n",
       "      <td>2019-08-03</td>\n",
       "      <td>A</td>\n",
       "      <td>507</td>\n",
       "    </tr>\n",
       "    <tr>\n",
       "      <th>3</th>\n",
       "      <td>2019-08-04</td>\n",
       "      <td>A</td>\n",
       "      <td>717</td>\n",
       "    </tr>\n",
       "    <tr>\n",
       "      <th>4</th>\n",
       "      <td>2019-08-05</td>\n",
       "      <td>A</td>\n",
       "      <td>756</td>\n",
       "    </tr>\n",
       "  </tbody>\n",
       "</table>\n",
       "</div>"
      ],
      "text/plain": [
       "         date group  visitors\n",
       "0  2019-08-01     A       719\n",
       "1  2019-08-02     A       619\n",
       "2  2019-08-03     A       507\n",
       "3  2019-08-04     A       717\n",
       "4  2019-08-05     A       756"
      ]
     },
     "metadata": {},
     "output_type": "display_data"
    },
    {
     "name": "stdout",
     "output_type": "stream",
     "text": [
      "<class 'pandas.core.frame.DataFrame'>\n",
      "RangeIndex: 1197 entries, 0 to 1196\n",
      "Data columns (total 5 columns):\n",
      " #   Column         Non-Null Count  Dtype \n",
      "---  ------         --------------  ----- \n",
      " 0   transactionId  1197 non-null   int64 \n",
      " 1   visitorId      1197 non-null   int64 \n",
      " 2   date           1197 non-null   object\n",
      " 3   revenue        1197 non-null   int64 \n",
      " 4   group          1197 non-null   object\n",
      "dtypes: int64(3), object(2)\n",
      "memory usage: 46.9+ KB\n",
      "<class 'pandas.core.frame.DataFrame'>\n",
      "RangeIndex: 62 entries, 0 to 61\n",
      "Data columns (total 3 columns):\n",
      " #   Column    Non-Null Count  Dtype \n",
      "---  ------    --------------  ----- \n",
      " 0   date      62 non-null     object\n",
      " 1   group     62 non-null     object\n",
      " 2   visitors  62 non-null     int64 \n",
      "dtypes: int64(1), object(2)\n",
      "memory usage: 1.6+ KB\n"
     ]
    }
   ],
   "source": [
    "orders = pd.read_csv('orders.csv')\n",
    "visitors = pd.read_csv('visitors.csv')\n",
    "display(orders.head())\n",
    "display(visitors.head())\n",
    "orders.info()\n",
    "visitors.info()"
   ]
  },
  {
   "cell_type": "markdown",
   "metadata": {},
   "source": [
    "С названиями столбцов все в порядке, но я предпочту заменить их на более привычные, также необходимо заменить типы данных в столбцах с данными.\n",
    "\n",
    "Воспользуюсь собственными функциями из прошлых проектов."
   ]
  },
  {
   "cell_type": "code",
   "execution_count": 6,
   "metadata": {},
   "outputs": [],
   "source": [
    "def make_df_good(df, ts):\n",
    "    df.columns = [x.lower().replace(' ', '_') for x in df.columns]            # Приводим названия к верному виду\n",
    "    df[ts] = pd.to_datetime(df[ts])                                           # Изменяем тип даты\n",
    "    if df.duplicated().sum() != 0:\n",
    "        return 'Внимание: есть дубликаты'                                     # Проверка на дубликаты\n",
    "    return(df)\n",
    "\n",
    "visitors = make_df_good(visitors, 'date')\n",
    "visitors = visitors.sort_values(by=['date', 'group']).reset_index(drop=True)\n",
    "orders = make_df_good(orders, 'date')\n",
    "orders.rename(columns={'transactionid':'transaction_id', 'visitorid':'visitor_id'}, inplace=True)"
   ]
  },
  {
   "cell_type": "markdown",
   "metadata": {},
   "source": [
    "Проверим даты в наших датафреймах, узнаем время проведения эксперимента"
   ]
  },
  {
   "cell_type": "code",
   "execution_count": 7,
   "metadata": {},
   "outputs": [
    {
     "name": "stdout",
     "output_type": "stream",
     "text": [
      "Минимальная и максимальная даты в orders 2019-08-01 00:00:00 ---- 2019-08-31 00:00:00\n",
      "Минимальная и максимальная даты в visitors 2019-08-01 00:00:00 ---- 2019-08-31 00:00:00\n"
     ]
    }
   ],
   "source": [
    "print('Минимальная и максимальная даты в orders', orders['date'].min(), '----', orders['date'].max())\n",
    "print('Минимальная и максимальная даты в visitors', visitors['date'].min(), '----', visitors['date'].max())"
   ]
  },
  {
   "cell_type": "markdown",
   "metadata": {},
   "source": [
    "Эксперимент проводился в августе 19 года, диапазон дат совпадает.\n",
    "\n",
    "Проверим, есть ли в наших данных фликеры - пользователи, попадавшие и в ту и в другую группу."
   ]
  },
  {
   "cell_type": "code",
   "execution_count": 8,
   "metadata": {
    "scrolled": true
   },
   "outputs": [
    {
     "name": "stdout",
     "output_type": "stream",
     "text": [
      "<class 'pandas.core.frame.DataFrame'>\n",
      "Int64Index: 58 entries, 2 to 1026\n",
      "Data columns (total 3 columns):\n",
      " #   Column      Non-Null Count  Dtype \n",
      "---  ------      --------------  ----- \n",
      " 0   visitor_id  58 non-null     int64 \n",
      " 1   n_groups    58 non-null     int64 \n",
      " 2   groups      58 non-null     object\n",
      "dtypes: int64(2), object(1)\n",
      "memory usage: 1.8+ KB\n"
     ]
    },
    {
     "data": {
      "text/html": [
       "<div>\n",
       "<style scoped>\n",
       "    .dataframe tbody tr th:only-of-type {\n",
       "        vertical-align: middle;\n",
       "    }\n",
       "\n",
       "    .dataframe tbody tr th {\n",
       "        vertical-align: top;\n",
       "    }\n",
       "\n",
       "    .dataframe thead th {\n",
       "        text-align: right;\n",
       "    }\n",
       "</style>\n",
       "<table border=\"1\" class=\"dataframe\">\n",
       "  <thead>\n",
       "    <tr style=\"text-align: right;\">\n",
       "      <th></th>\n",
       "      <th>visitor_id</th>\n",
       "      <th>n_groups</th>\n",
       "      <th>groups</th>\n",
       "    </tr>\n",
       "  </thead>\n",
       "  <tbody>\n",
       "    <tr>\n",
       "      <th>2</th>\n",
       "      <td>8300375</td>\n",
       "      <td>2</td>\n",
       "      <td>[B, A]</td>\n",
       "    </tr>\n",
       "    <tr>\n",
       "      <th>44</th>\n",
       "      <td>199603092</td>\n",
       "      <td>2</td>\n",
       "      <td>[A, B]</td>\n",
       "    </tr>\n",
       "    <tr>\n",
       "      <th>51</th>\n",
       "      <td>232979603</td>\n",
       "      <td>2</td>\n",
       "      <td>[B, A]</td>\n",
       "    </tr>\n",
       "    <tr>\n",
       "      <th>55</th>\n",
       "      <td>237748145</td>\n",
       "      <td>2</td>\n",
       "      <td>[B, A]</td>\n",
       "    </tr>\n",
       "    <tr>\n",
       "      <th>66</th>\n",
       "      <td>276558944</td>\n",
       "      <td>2</td>\n",
       "      <td>[B, A]</td>\n",
       "    </tr>\n",
       "  </tbody>\n",
       "</table>\n",
       "</div>"
      ],
      "text/plain": [
       "    visitor_id  n_groups  groups\n",
       "2      8300375         2  [B, A]\n",
       "44   199603092         2  [A, B]\n",
       "51   232979603         2  [B, A]\n",
       "55   237748145         2  [B, A]\n",
       "66   276558944         2  [B, A]"
      ]
     },
     "execution_count": 8,
     "metadata": {},
     "output_type": "execute_result"
    }
   ],
   "source": [
    "duplicated_users = (\n",
    "    orders.groupby('visitor_id', as_index=False)\n",
    "    .agg({'group':['nunique', 'unique']})\n",
    ")\n",
    "\n",
    "duplicated_users = duplicated_users.loc[duplicated_users['group']['nunique'] >= 2]\n",
    "duplicated_users.columns = ['visitor_id', 'n_groups', 'groups']\n",
    "duplicated_users.info()\n",
    "duplicated_users.head()"
   ]
  },
  {
   "cell_type": "code",
   "execution_count": 9,
   "metadata": {},
   "outputs": [
    {
     "name": "stdout",
     "output_type": "stream",
     "text": [
      "Процент фликеров в наших пользователях 5.625606207565471\n"
     ]
    }
   ],
   "source": [
    "print('Процент фликеров в наших пользователях', (len(duplicated_users['visitor_id'].unique()) / len(orders['visitor_id'].unique())) * 100)"
   ]
  },
  {
   "cell_type": "markdown",
   "metadata": {},
   "source": [
    "Такие пользователи, к сожалению, обнаружились и их доля достаточна велика. Возможно эти 5.6% пользователей почистили куки или наша система распределения групп дала сбой. В идеале необходимо выяснить причину столь большого процента фликеров, и, возможно, перезапустить тест с исправленной проблемой. \n",
    "\n",
    "Удалим этих пользователей из датасета"
   ]
  },
  {
   "cell_type": "code",
   "execution_count": 10,
   "metadata": {},
   "outputs": [],
   "source": [
    "orders = orders.query('visitor_id not in @duplicated_users[\"visitor_id\"]')"
   ]
  },
  {
   "cell_type": "markdown",
   "metadata": {},
   "source": [
    "Теперь мы готовы переходить к анализу"
   ]
  },
  {
   "cell_type": "markdown",
   "metadata": {},
   "source": [
    "### Обработка сырых данных"
   ]
  },
  {
   "cell_type": "markdown",
   "metadata": {},
   "source": [
    "Теперь наша задача - составить таблицу с кумулятивнымии параметрами по датам"
   ]
  },
  {
   "cell_type": "code",
   "execution_count": 11,
   "metadata": {},
   "outputs": [
    {
     "data": {
      "text/html": [
       "<div>\n",
       "<style scoped>\n",
       "    .dataframe tbody tr th:only-of-type {\n",
       "        vertical-align: middle;\n",
       "    }\n",
       "\n",
       "    .dataframe tbody tr th {\n",
       "        vertical-align: top;\n",
       "    }\n",
       "\n",
       "    .dataframe thead th {\n",
       "        text-align: right;\n",
       "    }\n",
       "</style>\n",
       "<table border=\"1\" class=\"dataframe\">\n",
       "  <thead>\n",
       "    <tr style=\"text-align: right;\">\n",
       "      <th></th>\n",
       "      <th>transaction_id</th>\n",
       "      <th>visitor_id</th>\n",
       "      <th>date</th>\n",
       "      <th>revenue</th>\n",
       "      <th>group</th>\n",
       "    </tr>\n",
       "  </thead>\n",
       "  <tbody>\n",
       "    <tr>\n",
       "      <th>0</th>\n",
       "      <td>3667963787</td>\n",
       "      <td>3312258926</td>\n",
       "      <td>2019-08-15</td>\n",
       "      <td>1650</td>\n",
       "      <td>B</td>\n",
       "    </tr>\n",
       "    <tr>\n",
       "      <th>1</th>\n",
       "      <td>2804400009</td>\n",
       "      <td>3642806036</td>\n",
       "      <td>2019-08-15</td>\n",
       "      <td>730</td>\n",
       "      <td>B</td>\n",
       "    </tr>\n",
       "    <tr>\n",
       "      <th>3</th>\n",
       "      <td>3797467345</td>\n",
       "      <td>1196621759</td>\n",
       "      <td>2019-08-15</td>\n",
       "      <td>9759</td>\n",
       "      <td>B</td>\n",
       "    </tr>\n",
       "    <tr>\n",
       "      <th>4</th>\n",
       "      <td>2282983706</td>\n",
       "      <td>2322279887</td>\n",
       "      <td>2019-08-15</td>\n",
       "      <td>2308</td>\n",
       "      <td>B</td>\n",
       "    </tr>\n",
       "    <tr>\n",
       "      <th>5</th>\n",
       "      <td>182168103</td>\n",
       "      <td>935554773</td>\n",
       "      <td>2019-08-15</td>\n",
       "      <td>2210</td>\n",
       "      <td>B</td>\n",
       "    </tr>\n",
       "  </tbody>\n",
       "</table>\n",
       "</div>"
      ],
      "text/plain": [
       "   transaction_id  visitor_id       date  revenue group\n",
       "0      3667963787  3312258926 2019-08-15     1650     B\n",
       "1      2804400009  3642806036 2019-08-15      730     B\n",
       "3      3797467345  1196621759 2019-08-15     9759     B\n",
       "4      2282983706  2322279887 2019-08-15     2308     B\n",
       "5       182168103   935554773 2019-08-15     2210     B"
      ]
     },
     "metadata": {},
     "output_type": "display_data"
    },
    {
     "data": {
      "text/html": [
       "<div>\n",
       "<style scoped>\n",
       "    .dataframe tbody tr th:only-of-type {\n",
       "        vertical-align: middle;\n",
       "    }\n",
       "\n",
       "    .dataframe tbody tr th {\n",
       "        vertical-align: top;\n",
       "    }\n",
       "\n",
       "    .dataframe thead th {\n",
       "        text-align: right;\n",
       "    }\n",
       "</style>\n",
       "<table border=\"1\" class=\"dataframe\">\n",
       "  <thead>\n",
       "    <tr style=\"text-align: right;\">\n",
       "      <th></th>\n",
       "      <th>date</th>\n",
       "      <th>group</th>\n",
       "      <th>visitors</th>\n",
       "    </tr>\n",
       "  </thead>\n",
       "  <tbody>\n",
       "    <tr>\n",
       "      <th>0</th>\n",
       "      <td>2019-08-01</td>\n",
       "      <td>A</td>\n",
       "      <td>719</td>\n",
       "    </tr>\n",
       "    <tr>\n",
       "      <th>1</th>\n",
       "      <td>2019-08-01</td>\n",
       "      <td>B</td>\n",
       "      <td>713</td>\n",
       "    </tr>\n",
       "    <tr>\n",
       "      <th>2</th>\n",
       "      <td>2019-08-02</td>\n",
       "      <td>A</td>\n",
       "      <td>619</td>\n",
       "    </tr>\n",
       "    <tr>\n",
       "      <th>3</th>\n",
       "      <td>2019-08-02</td>\n",
       "      <td>B</td>\n",
       "      <td>581</td>\n",
       "    </tr>\n",
       "    <tr>\n",
       "      <th>4</th>\n",
       "      <td>2019-08-03</td>\n",
       "      <td>A</td>\n",
       "      <td>507</td>\n",
       "    </tr>\n",
       "  </tbody>\n",
       "</table>\n",
       "</div>"
      ],
      "text/plain": [
       "        date group  visitors\n",
       "0 2019-08-01     A       719\n",
       "1 2019-08-01     B       713\n",
       "2 2019-08-02     A       619\n",
       "3 2019-08-02     B       581\n",
       "4 2019-08-03     A       507"
      ]
     },
     "metadata": {},
     "output_type": "display_data"
    }
   ],
   "source": [
    "display(orders.head())\n",
    "display(visitors.head())"
   ]
  },
  {
   "cell_type": "code",
   "execution_count": 12,
   "metadata": {
    "scrolled": true
   },
   "outputs": [
    {
     "data": {
      "text/html": [
       "<div>\n",
       "<style scoped>\n",
       "    .dataframe tbody tr th:only-of-type {\n",
       "        vertical-align: middle;\n",
       "    }\n",
       "\n",
       "    .dataframe tbody tr th {\n",
       "        vertical-align: top;\n",
       "    }\n",
       "\n",
       "    .dataframe thead th {\n",
       "        text-align: right;\n",
       "    }\n",
       "</style>\n",
       "<table border=\"1\" class=\"dataframe\">\n",
       "  <thead>\n",
       "    <tr style=\"text-align: right;\">\n",
       "      <th></th>\n",
       "      <th>date</th>\n",
       "      <th>group</th>\n",
       "      <th>n_orders</th>\n",
       "      <th>n_buyers</th>\n",
       "      <th>revenue</th>\n",
       "      <th>n_visitors</th>\n",
       "      <th>conversion</th>\n",
       "    </tr>\n",
       "  </thead>\n",
       "  <tbody>\n",
       "    <tr>\n",
       "      <th>0</th>\n",
       "      <td>2019-08-01</td>\n",
       "      <td>A</td>\n",
       "      <td>23</td>\n",
       "      <td>19</td>\n",
       "      <td>142779</td>\n",
       "      <td>719</td>\n",
       "      <td>0.026426</td>\n",
       "    </tr>\n",
       "    <tr>\n",
       "      <th>1</th>\n",
       "      <td>2019-08-01</td>\n",
       "      <td>B</td>\n",
       "      <td>17</td>\n",
       "      <td>17</td>\n",
       "      <td>59758</td>\n",
       "      <td>713</td>\n",
       "      <td>0.023843</td>\n",
       "    </tr>\n",
       "    <tr>\n",
       "      <th>2</th>\n",
       "      <td>2019-08-02</td>\n",
       "      <td>A</td>\n",
       "      <td>42</td>\n",
       "      <td>36</td>\n",
       "      <td>234381</td>\n",
       "      <td>1338</td>\n",
       "      <td>0.026906</td>\n",
       "    </tr>\n",
       "    <tr>\n",
       "      <th>3</th>\n",
       "      <td>2019-08-02</td>\n",
       "      <td>B</td>\n",
       "      <td>40</td>\n",
       "      <td>39</td>\n",
       "      <td>221801</td>\n",
       "      <td>1294</td>\n",
       "      <td>0.030139</td>\n",
       "    </tr>\n",
       "    <tr>\n",
       "      <th>4</th>\n",
       "      <td>2019-08-03</td>\n",
       "      <td>A</td>\n",
       "      <td>66</td>\n",
       "      <td>60</td>\n",
       "      <td>346854</td>\n",
       "      <td>1845</td>\n",
       "      <td>0.032520</td>\n",
       "    </tr>\n",
       "  </tbody>\n",
       "</table>\n",
       "</div>"
      ],
      "text/plain": [
       "        date group  n_orders  n_buyers  revenue  n_visitors  conversion\n",
       "0 2019-08-01     A        23        19   142779         719    0.026426\n",
       "1 2019-08-01     B        17        17    59758         713    0.023843\n",
       "2 2019-08-02     A        42        36   234381        1338    0.026906\n",
       "3 2019-08-02     B        40        39   221801        1294    0.030139\n",
       "4 2019-08-03     A        66        60   346854        1845    0.032520"
      ]
     },
     "execution_count": 12,
     "metadata": {},
     "output_type": "execute_result"
    }
   ],
   "source": [
    "orders_agg = (\n",
    "    visitors.apply(lambda string: orders[np.logical_and(orders['date'] <= string['date'], orders['group'] == string['group'])].agg({'date':'max', 'group':'max', 'transaction_id':'nunique', 'visitor_id':'nunique', 'revenue':'sum'}), axis=1)\n",
    "    .sort_values(by=['date','group'])\n",
    ")\n",
    "\n",
    "visitors_agg = (\n",
    "    visitors.apply(lambda string: visitors[np.logical_and(visitors['date'] <= string['date'], visitors['group'] == string['group'])].agg({'date':'max', 'group':'max', 'visitors':'sum'}), axis=1)\n",
    "    .sort_values(by=['date','group'])\n",
    ")\n",
    "\n",
    "cum_data = orders_agg.merge(visitors_agg, left_on=['date', 'group'], right_on=['date', 'group'])\n",
    "\n",
    "cum_data.columns = ['date', 'group', 'n_orders', 'n_buyers', 'revenue', 'n_visitors']\n",
    "\n",
    "cum_data['conversion'] = cum_data['n_buyers'] / cum_data['n_visitors']\n",
    "\n",
    "cum_data.head()"
   ]
  },
  {
   "cell_type": "markdown",
   "metadata": {},
   "source": [
    "Мы получили таблицу с рассчитанными кумулятивными параметрами. Посмотрим на вид графиков выручки."
   ]
  },
  {
   "cell_type": "code",
   "execution_count": 13,
   "metadata": {},
   "outputs": [],
   "source": [
    "cum_data_a = cum_data.query('group == \"A\"')\n",
    "cum_data_b = cum_data.query('group == \"B\"')\n",
    "merged_data = cum_data_a.merge(cum_data_b, left_on='date', right_on='date', how='left', suffixes=['_A', '_B'])"
   ]
  },
  {
   "cell_type": "code",
   "execution_count": 14,
   "metadata": {},
   "outputs": [
    {
     "data": {
      "image/png": "[encoded data removed]",
      "text/plain": [
       "<Figure size 1080x720 with 4 Axes>"
      ]
     },
     "metadata": {
      "needs_background": "light"
     },
     "output_type": "display_data"
    }
   ],
   "source": [
    "fig, ax = plt.subplots(nrows = 2, ncols = 2, figsize = (15, 10))\n",
    "\n",
    "ax[0][0].plot(range(31), cum_data_a['revenue'], label = \"A\")\n",
    "ax[0][0].plot(range(31), cum_data_b['revenue'], label = \"B\")\n",
    "ax[0][0].set_xlabel('Дни')\n",
    "ax[0][0].set_ylabel('Выручка (млн руб)')\n",
    "ax[0][0].title.set_text('Кумулятивная выручка')\n",
    "ax[0][0].legend()\n",
    "\n",
    "ax[0][1].plot(range(31), cum_data_a['revenue'] / cum_data_a['n_orders'], label = \"A\")\n",
    "ax[0][1].plot(range(31), cum_data_b['revenue'] / cum_data_b['n_orders'], label = \"B\")\n",
    "ax[0][1].set_xlabel('Дни')\n",
    "ax[0][1].set_ylabel('Средний чек (руб)')\n",
    "ax[0][1].title.set_text('Кумулятивный средний чек')\n",
    "ax[0][1].legend()\n",
    "\n",
    "ax[1][0].plot(range(31), cum_data_a['conversion'], label = \"A\")\n",
    "ax[1][0].plot(range(31), cum_data_b['conversion'], label = \"B\")\n",
    "ax[1][0].set_xlabel('Дни')\n",
    "ax[1][0].set_ylabel('Конверсия (доли)')\n",
    "ax[1][0].axis([0, 31, 0, 0.05])\n",
    "ax[1][0].title.set_text('Кумулятивная конверсия')\n",
    "ax[1][0].legend()\n",
    "\n",
    "ax[1][1].plot(merged_data['conversion_B'] / merged_data['conversion_A'])\n",
    "ax[1][1].axhline(y=1, color='black', linestyle='--')\n",
    "ax[1][1].set_xlabel('Дни')\n",
    "ax[1][1].set_ylabel('Относительная конверсия')\n",
    "ax[1][1].title.set_text('Относительная кумулятивная конверсия (B к A)')\n",
    "\n",
    "fig.tight_layout()"
   ]
  },
  {
   "cell_type": "markdown",
   "metadata": {},
   "source": [
    "Выручка:\n",
    "\n",
    "- Мы видим, что выручка группы B сильно подскочила в районе 17 дня теста. Скорее всего, там случились какие то аномально большие покупки, которые не отражают влияния изменений, добавленных в эту группу. Позже необходимо будет очистить данные от выбросов и проверить этот график еще раз.\n",
    "\n",
    "- Однако уже сейчас мы видим, что выручка группа B накапливалась чуть быстрее, чем для группы A, но этих данных пока недостаточно для выводов.\n",
    "\n",
    "Средний чек:\n",
    "\n",
    "- Мы видим, что кумулятивный средний чек группы B резко вырос как раз в момент роста выручки, что ожидаемо. Графики сильно зашумлены, и по среднему чеку сейчас мы не можем сделать никаких выводов.\n",
    "\n",
    "Конверсия и кумулятивная конверсия:\n",
    "\n",
    "- Конверсия в группе B ведет себя нетипично, с резким ростом, падением и последующим ростом снова. Однако она стабильно удерживалась выше группы A, что видно на графике относительной конверсии, что дает нам предположение о лучшем положении дел в этой группе.\n",
    "\n",
    "Пока складывается впечатление, что группа B все таки несколько выигрывает у группы A, однако данные слишком сильно зашумлены."
   ]
  },
  {
   "cell_type": "markdown",
   "metadata": {},
   "source": [
    "### Обработка очищенных данных"
   ]
  },
  {
   "cell_type": "markdown",
   "metadata": {},
   "source": [
    "Очистим наши данные от выбросов и повторим построения. Для начала надо определить, что считать выбросами. Для этого будем строить график рассеивания количества заказов и среднего чека, считать 95 и 99 перцентили и удалять аномальные значения."
   ]
  },
  {
   "cell_type": "code",
   "execution_count": 15,
   "metadata": {},
   "outputs": [
    {
     "data": {
      "image/png": "[encoded data removed]",
      "text/plain": [
       "<Figure size 432x288 with 1 Axes>"
      ]
     },
     "metadata": {
      "needs_background": "light"
     },
     "output_type": "display_data"
    },
    {
     "name": "stdout",
     "output_type": "stream",
     "text": [
      "[1. 2.]\n"
     ]
    }
   ],
   "source": [
    "orders_per_user = orders.groupby('visitor_id', as_index=False).agg({'transaction_id':'nunique'})\n",
    "\n",
    "x_values = pd.Series(range(0, len(orders_per_user)))\n",
    "plt.scatter(x_values, orders_per_user['transaction_id'])\n",
    "plt.show()\n",
    "\n",
    "print(np.percentile(orders_per_user['transaction_id'], [95,99]))"
   ]
  },
  {
   "cell_type": "markdown",
   "metadata": {},
   "source": [
    "Для 95% пользователей количество заказов не превышает 1 заказа, а для 99% - 2х заказов. Возьмем границу по которой будем фильтровать - 1 заказ.\n",
    "\n",
    "Посмотрим средний чек"
   ]
  },
  {
   "cell_type": "code",
   "execution_count": 16,
   "metadata": {},
   "outputs": [
    {
     "data": {
      "image/png": "[encoded data removed]",
      "text/plain": [
       "<Figure size 432x288 with 1 Axes>"
      ]
     },
     "metadata": {
      "needs_background": "light"
     },
     "output_type": "display_data"
    },
    {
     "name": "stdout",
     "output_type": "stream",
     "text": [
      "[26785. 53904.]\n"
     ]
    }
   ],
   "source": [
    "x_values = pd.Series(range(0, len(orders['revenue'])))\n",
    "plt.scatter(x_values, orders['revenue'])\n",
    "plt.show()\n",
    "\n",
    "print(np.percentile(orders['revenue'], [95,99]))"
   ]
  },
  {
   "cell_type": "markdown",
   "metadata": {},
   "source": [
    "Для 95% пользователей стоимость заказа не превышает 26785 рублей, а для 99% - 53904 рубля. Возьмем за границу значение в 30 000р, таким образом мы отсеем от 1 до 5 процентов заказов."
   ]
  },
  {
   "cell_type": "code",
   "execution_count": 17,
   "metadata": {},
   "outputs": [],
   "source": [
    "transaction_filter = np.percentile(orders_per_user['transaction_id'], 99)\n",
    "revenue_filter = np.percentile(orders['revenue'], 99)\n",
    "\n",
    "orders_per_user.query('transaction_id < @transaction_filter')\n",
    "\n",
    "orders_clean = orders.query('visitor_id in @orders_per_user[\"visitor_id\"] and revenue < @revenue_filter')"
   ]
  },
  {
   "cell_type": "markdown",
   "metadata": {},
   "source": [
    "Повторим построения графиков для очищенных данных"
   ]
  },
  {
   "cell_type": "code",
   "execution_count": 18,
   "metadata": {},
   "outputs": [],
   "source": [
    "orders_agg_clean = (\n",
    "    visitors.apply(lambda string: orders_clean[np.logical_and(orders_clean['date'] <= string['date'], orders_clean['group'] == string['group'])].agg({'date':'max', 'group':'max', 'transaction_id':'nunique', 'visitor_id':'nunique', 'revenue':'sum'}), axis=1)\n",
    "    .sort_values(by=['date','group'])\n",
    ")\n",
    "\n",
    "visitors_agg_clean = (\n",
    "    visitors.apply(lambda string: visitors[np.logical_and(visitors['date'] <= string['date'], visitors['group'] == string['group'])].agg({'date':'max', 'group':'max', 'visitors':'sum'}), axis=1)\n",
    "    .sort_values(by=['date','group'])\n",
    ")\n",
    "\n",
    "cum_data_clean = orders_agg_clean.merge(visitors_agg_clean, left_on=['date', 'group'], right_on=['date', 'group'])\n",
    "\n",
    "cum_data_clean.columns = ['date', 'group', 'n_orders', 'n_buyers', 'revenue', 'n_visitors']\n",
    "\n",
    "cum_data_clean['conversion'] = cum_data_clean['n_buyers'] / cum_data_clean['n_visitors']\n",
    "\n",
    "cum_data_a_clean = cum_data_clean.query('group == \"A\"')\n",
    "cum_data_b_clean = cum_data_clean.query('group == \"B\"')\n",
    "merged_data_clean = cum_data_a_clean.merge(cum_data_b_clean, left_on='date', right_on='date', how='left', suffixes=['_A', '_B'])"
   ]
  },
  {
   "cell_type": "code",
   "execution_count": 19,
   "metadata": {},
   "outputs": [
    {
     "data": {
      "image/png": "[encoded data removed]",
      "text/plain": [
       "<Figure size 1080x720 with 4 Axes>"
      ]
     },
     "metadata": {
      "needs_background": "light"
     },
     "output_type": "display_data"
    }
   ],
   "source": [
    "fig, ax = plt.subplots(nrows = 2, ncols = 2, figsize = (15, 10))\n",
    "\n",
    "ax[0][0].plot(range(31), cum_data_a_clean['revenue'], label = \"A\")\n",
    "ax[0][0].plot(range(31), cum_data_b_clean['revenue'], label = \"B\")\n",
    "ax[0][0].set_xlabel('Дни')\n",
    "ax[0][0].set_ylabel('Выручка (млн руб)')\n",
    "ax[0][0].title.set_text('Кумулятивная выручка')\n",
    "ax[0][0].legend()\n",
    "\n",
    "ax[0][1].plot(range(31), cum_data_a_clean['revenue'] / cum_data_a_clean['n_orders'], label = \"A\")\n",
    "ax[0][1].plot(range(31), cum_data_b_clean['revenue'] / cum_data_b_clean['n_orders'], label = \"B\")\n",
    "ax[0][1].set_xlabel('Дни')\n",
    "ax[0][1].set_ylabel('Средний чек (руб)')\n",
    "ax[0][1].title.set_text('Кумулятивный средний чек')\n",
    "ax[0][1].legend()\n",
    "\n",
    "ax[1][0].plot(range(31), cum_data_a_clean['conversion'], label = \"A\")\n",
    "ax[1][0].plot(range(31), cum_data_b_clean['conversion'], label = \"B\")\n",
    "ax[1][0].set_xlabel('Дни')\n",
    "ax[1][0].set_ylabel('Конверсия (доли)')\n",
    "ax[1][0].axis([0, 31, 0, 0.05])\n",
    "ax[1][0].title.set_text('Кумулятивная конверсия')\n",
    "ax[1][0].legend()\n",
    "\n",
    "ax[1][1].plot(merged_data_clean['conversion_B'] / merged_data_clean['conversion_A'])\n",
    "ax[1][1].axhline(y=1, color='black', linestyle='--')\n",
    "ax[1][1].set_xlabel('Дни')\n",
    "ax[1][1].set_ylabel('Относительная конверсия')\n",
    "ax[1][1].title.set_text('Относительная кумулятивная конверсия (B к A)')\n",
    "\n",
    "fig.tight_layout()"
   ]
  },
  {
   "cell_type": "markdown",
   "metadata": {},
   "source": [
    "Из графиков выручки и среднего чека пропали резкие увеличения, теперь графики выглядят правдоподобно. По кумулятивному среднему чеку мы видим, что значимых различий между группами нет, однако выручка группы B стабильно отрывается от группы A. Это происходит благодаря лучшей конверсии в группе B, что мы видим на графиках конверсии. Проверим стат значимость данных выводов. Для начала проверим наши данные на соответствие нормальному распределению. Проверять будем уже очищенные данные, так как если они не нормальные, то данные с выбросами тем более не будут."
   ]
  },
  {
   "cell_type": "code",
   "execution_count": 20,
   "metadata": {},
   "outputs": [
    {
     "name": "stdout",
     "output_type": "stream",
     "text": [
      "p-value проверки на нормальность выручки A 0.3\n",
      "p-value проверки на нормальность выручки B 0.32\n",
      "p-value проверки на нормальность среднего чека A 0.02\n",
      "p-value проверки на нормальность среднего чека B 0.0\n",
      "p-value проверки на нормальность конверсии 0.0\n"
     ]
    }
   ],
   "source": [
    "print('p-value проверки на нормальность выручки A', round(st.shapiro(cum_data_a_clean['revenue']).pvalue, 2))\n",
    "print('p-value проверки на нормальность выручки B', round(st.shapiro(cum_data_b_clean['revenue']).pvalue, 2))\n",
    "print('p-value проверки на нормальность среднего чека A', round(st.shapiro(cum_data_a_clean['revenue'] / cum_data_a_clean['n_orders']).pvalue, 2))\n",
    "print('p-value проверки на нормальность среднего чека B', round(st.shapiro(cum_data_b_clean['revenue'] / cum_data_b_clean['n_orders']).pvalue, 2))\n",
    "print('p-value проверки на нормальность конверсии', round(st.shapiro(cum_data_clean['conversion']).pvalue, 2))"
   ]
  },
  {
   "cell_type": "markdown",
   "metadata": {},
   "source": [
    "Как мы видим, при уровне значимости в 5% ни средний чек, ни конверсия не ведут себя нормально, поэтому для их сравнения мы будем использовать непараметрический тест Манна-Уитни. Выручки же можно сравнивать по t тесту Стьюдента.\n",
    "\n",
    "Проверим стат значимость по сырым и очищенным данным `(α = 0.05)`"
   ]
  },
  {
   "cell_type": "code",
   "execution_count": 21,
   "metadata": {},
   "outputs": [],
   "source": [
    "orders_users_a = (                                 # создаем \"образцы\" сырых данных для проверки\n",
    "    orders[orders['group'] == 'A']\n",
    "    .groupby('visitor_id', as_index=False)\n",
    "    .agg({'transaction_id': pd.Series.nunique})\n",
    ")\n",
    "orders_users_a.columns = ['visitor_id', 'orders']\n",
    "\n",
    "orders_users_b = (\n",
    "    orders[orders['group'] == 'B']\n",
    "    .groupby('visitor_id', as_index=False)\n",
    "    .agg({'transaction_id': pd.Series.nunique})\n",
    ")\n",
    "orders_users_b.columns = ['visitor_id', 'orders'] \n",
    "\n",
    "sampleA = pd.concat([orders_users_a['orders'],pd.Series(0, index=np.arange(merged_data['n_visitors_A'].sum() - len(orders_users_a['orders'])), name='orders')],axis=0)\n",
    "\n",
    "sampleB = pd.concat([orders_users_b['orders'],pd.Series(0, index=np.arange(merged_data['n_visitors_B'].sum() - len(orders_users_b['orders'])), name='orders')],axis=0) \n",
    "\n",
    "orders_users_a_clean = (                                  # создаем \"образцы\" очищенных данных для проверки\n",
    "    orders_clean[orders_clean['group'] == 'A']\n",
    "    .groupby('visitor_id', as_index=False)\n",
    "    .agg({'transaction_id': pd.Series.nunique})\n",
    ")\n",
    "orders_users_a_clean.columns = ['visitor_id', 'orders']\n",
    "\n",
    "orders_users_b_clean = (\n",
    "    orders_clean[orders_clean['group'] == 'B']\n",
    "    .groupby('visitor_id', as_index=False)\n",
    "    .agg({'transaction_id': pd.Series.nunique})\n",
    ")\n",
    "orders_users_b_clean.columns = ['visitor_id', 'orders'] \n",
    "\n",
    "sampleA_clean = pd.concat([orders_users_a_clean['orders'],pd.Series(0, index=np.arange(merged_data_clean['n_visitors_A'].sum() - len(orders_users_a_clean['orders'])), name='orders')],axis=0)\n",
    "\n",
    "sampleB_clean = pd.concat([orders_users_b_clean['orders'],pd.Series(0, index=np.arange(merged_data_clean['n_visitors_B'].sum() - len(orders_users_b_clean['orders'])), name='orders')],axis=0) "
   ]
  },
  {
   "cell_type": "code",
   "execution_count": 22,
   "metadata": {},
   "outputs": [
    {
     "name": "stdout",
     "output_type": "stream",
     "text": [
      "p-value выручки (сырые данные) 0.03\n",
      "p-value среднего чека (сырые данные) 0.83\n",
      "p-value конверсии (сырые данные) 0.01\n",
      "\n",
      "p-value выручки (очищенные данные) 0.24\n",
      "p-value среднего чека (очищенные данные) 0.95\n",
      "p-value конверсии (очищенные данные) 0.01\n"
     ]
    }
   ],
   "source": [
    "print('p-value выручки (сырые данные)', round(st.ttest_ind(merged_data['revenue_A'], merged_data['revenue_B'], equal_var=False).pvalue, 2))\n",
    "print('p-value среднего чека (сырые данные)', round(st.mannwhitneyu(orders[orders['group']=='A']['revenue'], orders[orders['group']=='B']['revenue']).pvalue, 2))\n",
    "print('p-value конверсии (сырые данные)', round(st.mannwhitneyu(sampleA, sampleB).pvalue, 2))\n",
    "print()\n",
    "print('p-value выручки (очищенные данные)', round(st.ttest_ind(merged_data_clean['revenue_A'], merged_data_clean['revenue_B'], equal_var=False).pvalue, 2))\n",
    "print('p-value среднего чека (очищенные данные)', round(st.mannwhitneyu(orders_clean[orders_clean['group']=='A']['revenue'], orders_clean[orders_clean['group']=='B']['revenue']).pvalue, 2))\n",
    "print('p-value конверсии (очищенные данные)', round(st.mannwhitneyu(sampleA_clean, sampleB_clean).pvalue, 2))"
   ]
  },
  {
   "cell_type": "markdown",
   "metadata": {},
   "source": [
    "Конверсия показывает статистически значимую разницу как по сырым, так и по очищенным данным.  выручка перестала показывать стат значимости по очищенным данным. Это интересно, было бы здорово увидеть изменения этих метрик во времени. Визуализируем их. Визуализацию будем строить по очищенным данным."
   ]
  },
  {
   "cell_type": "code",
   "execution_count": 23,
   "metadata": {},
   "outputs": [
    {
     "name": "stderr",
     "output_type": "stream",
     "text": [
      "Y:\\Anaconda\\envs\\da_practicum_env\\lib\\site-packages\\numpy\\core\\fromnumeric.py:3702: RuntimeWarning: Degrees of freedom <= 0 for slice\n",
      "  return _methods._var(a, axis=axis, dtype=dtype, out=out, ddof=ddof,\n",
      "Y:\\Anaconda\\envs\\da_practicum_env\\lib\\site-packages\\numpy\\core\\_methods.py:253: RuntimeWarning: invalid value encountered in double_scalars\n",
      "  ret = ret.dtype.type(ret / rcount)\n"
     ]
    }
   ],
   "source": [
    "dates = pd.to_datetime(pd.date_range(datetime.date(2019,8,1), datetime.date(2019,8,31))).tolist()\n",
    "\n",
    "p_vals_rev = []\n",
    "p_vals_cheque = []\n",
    "p_vals_cr = []\n",
    "\n",
    "for dt in dates:\n",
    "    df = merged_data_clean[merged_data_clean['date'] <= dt]\n",
    "    orders = orders_clean[orders_clean['date'] <= dt]\n",
    "    orders_users_a = (\n",
    "        orders[orders['group'] == 'A']\n",
    "        .groupby('visitor_id', as_index=False)\n",
    "        .agg({'transaction_id': pd.Series.nunique})\n",
    "    )\n",
    "    orders_users_a.columns = ['visitor_id', 'orders']\n",
    "\n",
    "    orders_users_b = (\n",
    "        orders[orders['group'] == 'B']\n",
    "        .groupby('visitor_id', as_index=False)\n",
    "        .agg({'transaction_id': pd.Series.nunique})\n",
    "    )\n",
    "    orders_users_b.columns = ['visitor_id', 'orders'] \n",
    "\n",
    "    sampleA = pd.concat([orders_users_a['orders'],pd.Series(0, index=np.arange(df['n_visitors_A'].sum() - len(orders_users_a['orders'])), name='orders')],axis=0)\n",
    "\n",
    "    sampleB = pd.concat([orders_users_b['orders'],pd.Series(0, index=np.arange(df['n_visitors_B'].sum() - len(orders_users_b['orders'])), name='orders')],axis=0) \n",
    "    \n",
    "    p_val_rev = st.ttest_ind(df['revenue_A'], df['revenue_B'], equal_var=False).pvalue\n",
    "    p_vals_rev.append(p_val_rev)\n",
    "    \n",
    "    p_val_cheque = st.mannwhitneyu(orders[orders['group']=='A']['revenue'], orders[orders['group']=='B']['revenue']).pvalue\n",
    "    p_vals_cheque.append(p_val_cheque)\n",
    "    \n",
    "    p_val_cr = st.mannwhitneyu(df['conversion_A'], df['conversion_B']).pvalue\n",
    "    p_vals_cr.append(p_val_cr)"
   ]
  },
  {
   "cell_type": "code",
   "execution_count": 24,
   "metadata": {},
   "outputs": [
    {
     "data": {
      "image/png": "[encoded data removed]",
      "text/plain": [
       "<Figure size 864x288 with 3 Axes>"
      ]
     },
     "metadata": {
      "needs_background": "light"
     },
     "output_type": "display_data"
    }
   ],
   "source": [
    "fig, ax = plt.subplots(nrows = 1, ncols = 3, figsize = (12, 4))\n",
    "\n",
    "ax[0].plot(p_vals_rev, label = 'pv_revenue')\n",
    "ax[0].axhline(y=0.05, color='black', linestyle='--')\n",
    "ax[0].title.set_text('pvalue для выручки')\n",
    "\n",
    "ax[1].plot(p_vals_cheque, label = 'pv_cheque')\n",
    "ax[1].axhline(y=0.05, color='black', linestyle='--')\n",
    "ax[1].title.set_text('pvalue для среднего чека')\n",
    "\n",
    "ax[2].plot(p_vals_cr, label = 'pv_cr')\n",
    "ax[2].axhline(y=0.05, color='black', linestyle='--')\n",
    "ax[2].title.set_text('pvalue для конверсии')\n",
    "\n",
    "fig.tight_layout()"
   ]
  },
  {
   "cell_type": "markdown",
   "metadata": {},
   "source": [
    "Как мы видим, начиная с 10 дня конверсия стала показывать статистически значимое различие, и выручка, хоть пока и не показывает ее, постепенно уменьшает свое p-value. На основании этого эксперимент можно признать удачным.\n",
    "\n",
    "Вывод: **остановить тест, зафиксировать победу группы B**"
   ]
  }
 ],
 "metadata": {
  "ExecuteTimeLog": [
   {
    "duration": 1367,
    "start_time": "2022-05-17T19:32:19.320Z"
   },
   {
    "duration": 94,
    "start_time": "2022-05-17T19:32:57.466Z"
   },
   {
    "duration": 189,
    "start_time": "2022-05-17T19:40:15.256Z"
   },
   {
    "duration": 106,
    "start_time": "2022-05-17T19:40:27.347Z"
   },
   {
    "duration": 1097,
    "start_time": "2022-05-17T19:40:44.522Z"
   },
   {
    "duration": 3,
    "start_time": "2022-05-17T19:40:45.730Z"
   },
   {
    "duration": 40,
    "start_time": "2022-05-17T19:40:45.735Z"
   },
   {
    "duration": 10,
    "start_time": "2022-05-17T19:40:45.777Z"
   },
   {
    "duration": 32,
    "start_time": "2022-05-17T19:41:47.181Z"
   },
   {
    "duration": 8,
    "start_time": "2022-05-17T19:41:53.925Z"
   },
   {
    "duration": 10,
    "start_time": "2022-05-17T19:41:59.522Z"
   },
   {
    "duration": 12,
    "start_time": "2022-05-17T19:42:05.376Z"
   },
   {
    "duration": 5,
    "start_time": "2022-05-17T19:43:39.302Z"
   },
   {
    "duration": 4,
    "start_time": "2022-05-17T19:43:57.370Z"
   },
   {
    "duration": 11,
    "start_time": "2022-05-17T19:47:53.621Z"
   },
   {
    "duration": 13,
    "start_time": "2022-05-17T19:48:07.040Z"
   },
   {
    "duration": 1127,
    "start_time": "2022-05-17T19:48:16.020Z"
   },
   {
    "duration": 37,
    "start_time": "2022-05-17T19:48:17.148Z"
   },
   {
    "duration": 12,
    "start_time": "2022-05-17T19:48:17.186Z"
   },
   {
    "duration": 12,
    "start_time": "2022-05-17T19:48:17.200Z"
   },
   {
    "duration": 6,
    "start_time": "2022-05-17T19:50:01.807Z"
   },
   {
    "duration": 188,
    "start_time": "2022-05-17T19:56:34.832Z"
   },
   {
    "duration": 3,
    "start_time": "2022-05-17T19:59:25.611Z"
   },
   {
    "duration": 106,
    "start_time": "2022-05-17T20:00:21.470Z"
   },
   {
    "duration": 6,
    "start_time": "2022-05-17T20:00:25.740Z"
   },
   {
    "duration": 16,
    "start_time": "2022-05-17T20:00:32.334Z"
   },
   {
    "duration": 22,
    "start_time": "2022-05-17T20:01:03.535Z"
   },
   {
    "duration": 86,
    "start_time": "2022-05-17T20:01:44.214Z"
   },
   {
    "duration": 15,
    "start_time": "2022-05-17T20:09:17.665Z"
   },
   {
    "duration": 1062,
    "start_time": "2022-05-17T20:09:26.139Z"
   },
   {
    "duration": 37,
    "start_time": "2022-05-17T20:09:27.203Z"
   },
   {
    "duration": 12,
    "start_time": "2022-05-17T20:09:27.242Z"
   },
   {
    "duration": 12,
    "start_time": "2022-05-17T20:09:27.256Z"
   },
   {
    "duration": 96,
    "start_time": "2022-05-17T20:09:27.270Z"
   },
   {
    "duration": 4,
    "start_time": "2022-05-17T20:09:27.368Z"
   },
   {
    "duration": 19,
    "start_time": "2022-05-17T20:09:27.373Z"
   },
   {
    "duration": 15,
    "start_time": "2022-05-17T20:09:35.773Z"
   },
   {
    "duration": 14,
    "start_time": "2022-05-17T20:10:04.609Z"
   },
   {
    "duration": 1110,
    "start_time": "2022-05-17T20:11:16.797Z"
   },
   {
    "duration": 38,
    "start_time": "2022-05-17T20:11:17.911Z"
   },
   {
    "duration": 15,
    "start_time": "2022-05-17T20:11:17.951Z"
   },
   {
    "duration": 14,
    "start_time": "2022-05-17T20:11:17.968Z"
   },
   {
    "duration": 94,
    "start_time": "2022-05-17T20:11:17.984Z"
   },
   {
    "duration": 6,
    "start_time": "2022-05-17T20:11:18.080Z"
   },
   {
    "duration": 42,
    "start_time": "2022-05-17T20:11:18.088Z"
   },
   {
    "duration": 5,
    "start_time": "2022-05-17T20:11:48.981Z"
   },
   {
    "duration": 1010,
    "start_time": "2022-05-17T20:11:54.384Z"
   },
   {
    "duration": 35,
    "start_time": "2022-05-17T20:11:55.395Z"
   },
   {
    "duration": 11,
    "start_time": "2022-05-17T20:11:55.432Z"
   },
   {
    "duration": 12,
    "start_time": "2022-05-17T20:11:55.445Z"
   },
   {
    "duration": 81,
    "start_time": "2022-05-17T20:11:55.458Z"
   },
   {
    "duration": 4,
    "start_time": "2022-05-17T20:11:55.541Z"
   },
   {
    "duration": 42,
    "start_time": "2022-05-17T20:11:55.547Z"
   },
   {
    "duration": 40,
    "start_time": "2022-05-17T20:12:27.213Z"
   },
   {
    "duration": 40,
    "start_time": "2022-05-17T20:13:25.107Z"
   },
   {
    "duration": 3,
    "start_time": "2022-05-17T20:18:43.832Z"
   },
   {
    "duration": 1085,
    "start_time": "2022-05-17T20:19:11.625Z"
   },
   {
    "duration": 36,
    "start_time": "2022-05-17T20:19:12.712Z"
   },
   {
    "duration": 12,
    "start_time": "2022-05-17T20:19:12.749Z"
   },
   {
    "duration": 12,
    "start_time": "2022-05-17T20:19:12.763Z"
   },
   {
    "duration": 76,
    "start_time": "2022-05-17T20:19:12.776Z"
   },
   {
    "duration": 4,
    "start_time": "2022-05-17T20:19:12.853Z"
   },
   {
    "duration": 11,
    "start_time": "2022-05-17T20:19:12.858Z"
   },
   {
    "duration": 3,
    "start_time": "2022-05-17T20:20:43.621Z"
   },
   {
    "duration": 269,
    "start_time": "2022-05-17T20:23:24.832Z"
   },
   {
    "duration": 5,
    "start_time": "2022-05-17T20:24:36.094Z"
   },
   {
    "duration": 4,
    "start_time": "2022-05-17T20:24:53.672Z"
   },
   {
    "duration": 11,
    "start_time": "2022-05-17T21:00:27.301Z"
   },
   {
    "duration": 18,
    "start_time": "2022-05-17T21:01:14.892Z"
   },
   {
    "duration": 11,
    "start_time": "2022-05-17T21:01:27.787Z"
   },
   {
    "duration": 12,
    "start_time": "2022-05-17T21:01:37.753Z"
   },
   {
    "duration": 14,
    "start_time": "2022-05-17T21:02:43.223Z"
   },
   {
    "duration": 14,
    "start_time": "2022-05-17T21:03:00.546Z"
   },
   {
    "duration": 14,
    "start_time": "2022-05-17T21:03:20.712Z"
   },
   {
    "duration": 89,
    "start_time": "2022-05-17T21:03:56.564Z"
   },
   {
    "duration": 1050,
    "start_time": "2022-05-17T21:04:43.961Z"
   },
   {
    "duration": 37,
    "start_time": "2022-05-17T21:04:45.014Z"
   },
   {
    "duration": 14,
    "start_time": "2022-05-17T21:04:45.052Z"
   },
   {
    "duration": 15,
    "start_time": "2022-05-17T21:04:45.068Z"
   },
   {
    "duration": 79,
    "start_time": "2022-05-17T21:04:45.085Z"
   },
   {
    "duration": 10,
    "start_time": "2022-05-17T21:04:45.166Z"
   },
   {
    "duration": 5,
    "start_time": "2022-05-17T21:04:45.177Z"
   },
   {
    "duration": 191,
    "start_time": "2022-05-17T21:04:45.183Z"
   },
   {
    "duration": 78,
    "start_time": "2022-05-17T21:05:12.270Z"
   },
   {
    "duration": 69,
    "start_time": "2022-05-17T21:05:24.971Z"
   },
   {
    "duration": 89,
    "start_time": "2022-05-17T21:05:42.908Z"
   },
   {
    "duration": 75,
    "start_time": "2022-05-17T21:05:49.191Z"
   },
   {
    "duration": 85,
    "start_time": "2022-05-17T21:07:35.951Z"
   },
   {
    "duration": 27,
    "start_time": "2022-05-17T21:09:08.470Z"
   },
   {
    "duration": 69,
    "start_time": "2022-05-17T21:10:43.978Z"
   },
   {
    "duration": 87,
    "start_time": "2022-05-17T21:10:57.845Z"
   },
   {
    "duration": 76,
    "start_time": "2022-05-17T21:11:15.744Z"
   },
   {
    "duration": 67,
    "start_time": "2022-05-17T21:11:25.774Z"
   },
   {
    "duration": 62,
    "start_time": "2022-05-17T21:11:49.355Z"
   },
   {
    "duration": 80,
    "start_time": "2022-05-17T21:12:37.080Z"
   },
   {
    "duration": 73,
    "start_time": "2022-05-17T21:13:05.523Z"
   },
   {
    "duration": 68,
    "start_time": "2022-05-17T21:13:17.222Z"
   },
   {
    "duration": 70,
    "start_time": "2022-05-17T21:13:26.528Z"
   },
   {
    "duration": 1242,
    "start_time": "2022-05-17T21:13:37.806Z"
   },
   {
    "duration": 38,
    "start_time": "2022-05-17T21:13:39.050Z"
   },
   {
    "duration": 15,
    "start_time": "2022-05-17T21:13:39.090Z"
   },
   {
    "duration": 15,
    "start_time": "2022-05-17T21:13:39.108Z"
   },
   {
    "duration": 79,
    "start_time": "2022-05-17T21:13:39.125Z"
   },
   {
    "duration": 13,
    "start_time": "2022-05-17T21:13:39.206Z"
   },
   {
    "duration": 20,
    "start_time": "2022-05-17T21:13:39.221Z"
   },
   {
    "duration": 179,
    "start_time": "2022-05-17T21:13:39.243Z"
   },
   {
    "duration": 65,
    "start_time": "2022-05-17T21:14:00.545Z"
   },
   {
    "duration": 65,
    "start_time": "2022-05-17T21:14:18.342Z"
   },
   {
    "duration": 59,
    "start_time": "2022-05-17T21:14:34.861Z"
   },
   {
    "duration": 61,
    "start_time": "2022-05-17T21:15:11.085Z"
   },
   {
    "duration": 77,
    "start_time": "2022-05-17T21:15:22.410Z"
   },
   {
    "duration": 67,
    "start_time": "2022-05-17T21:15:31.014Z"
   },
   {
    "duration": 71,
    "start_time": "2022-05-17T21:15:42.126Z"
   },
   {
    "duration": 76,
    "start_time": "2022-05-17T21:15:55.144Z"
   },
   {
    "duration": 19,
    "start_time": "2022-05-17T21:18:38.542Z"
   },
   {
    "duration": 25,
    "start_time": "2022-05-17T21:18:42.376Z"
   },
   {
    "duration": 16,
    "start_time": "2022-05-17T21:19:10.584Z"
   },
   {
    "duration": 74,
    "start_time": "2022-05-17T21:21:38.246Z"
   },
   {
    "duration": 68,
    "start_time": "2022-05-17T21:21:51.185Z"
   },
   {
    "duration": 82,
    "start_time": "2022-05-17T21:22:03.300Z"
   },
   {
    "duration": 1098,
    "start_time": "2022-05-17T21:22:21.779Z"
   },
   {
    "duration": 37,
    "start_time": "2022-05-17T21:22:22.879Z"
   },
   {
    "duration": 14,
    "start_time": "2022-05-17T21:22:22.918Z"
   },
   {
    "duration": 13,
    "start_time": "2022-05-17T21:22:22.934Z"
   },
   {
    "duration": 85,
    "start_time": "2022-05-17T21:22:22.949Z"
   },
   {
    "duration": 11,
    "start_time": "2022-05-17T21:22:23.035Z"
   },
   {
    "duration": 7,
    "start_time": "2022-05-17T21:22:23.048Z"
   },
   {
    "duration": 106,
    "start_time": "2022-05-17T21:22:23.057Z"
   },
   {
    "duration": 134,
    "start_time": "2022-05-17T21:22:23.165Z"
   },
   {
    "duration": 79,
    "start_time": "2022-05-17T21:22:32.280Z"
   },
   {
    "duration": 1125,
    "start_time": "2022-05-17T21:22:43.007Z"
   },
   {
    "duration": 36,
    "start_time": "2022-05-17T21:22:44.134Z"
   },
   {
    "duration": 12,
    "start_time": "2022-05-17T21:22:44.172Z"
   },
   {
    "duration": 12,
    "start_time": "2022-05-17T21:22:44.186Z"
   },
   {
    "duration": 77,
    "start_time": "2022-05-17T21:22:44.200Z"
   },
   {
    "duration": 12,
    "start_time": "2022-05-17T21:22:44.279Z"
   },
   {
    "duration": 8,
    "start_time": "2022-05-17T21:22:44.293Z"
   },
   {
    "duration": 78,
    "start_time": "2022-05-17T21:22:44.303Z"
   },
   {
    "duration": 117,
    "start_time": "2022-05-17T21:22:44.382Z"
   },
   {
    "duration": 13,
    "start_time": "2022-05-17T21:24:45.965Z"
   },
   {
    "duration": 6,
    "start_time": "2022-05-17T21:25:05.905Z"
   },
   {
    "duration": 5,
    "start_time": "2022-05-17T21:25:25.644Z"
   },
   {
    "duration": 7,
    "start_time": "2022-05-17T21:25:28.642Z"
   },
   {
    "duration": 19,
    "start_time": "2022-05-17T21:29:24.760Z"
   },
   {
    "duration": 24,
    "start_time": "2022-05-17T21:29:37.281Z"
   },
   {
    "duration": 23,
    "start_time": "2022-05-17T21:30:54.401Z"
   },
   {
    "duration": 23,
    "start_time": "2022-05-17T21:31:19.549Z"
   },
   {
    "duration": 19,
    "start_time": "2022-05-17T21:31:57.060Z"
   },
   {
    "duration": 21,
    "start_time": "2022-05-17T21:32:04.336Z"
   },
   {
    "duration": 1124,
    "start_time": "2022-05-17T21:36:59.873Z"
   },
   {
    "duration": 43,
    "start_time": "2022-05-17T21:37:01.000Z"
   },
   {
    "duration": 16,
    "start_time": "2022-05-17T21:37:01.045Z"
   },
   {
    "duration": 19,
    "start_time": "2022-05-17T21:37:01.063Z"
   },
   {
    "duration": 90,
    "start_time": "2022-05-17T21:37:01.084Z"
   },
   {
    "duration": 15,
    "start_time": "2022-05-17T21:37:01.176Z"
   },
   {
    "duration": 23,
    "start_time": "2022-05-17T21:37:01.193Z"
   },
   {
    "duration": 84,
    "start_time": "2022-05-17T21:37:01.218Z"
   },
   {
    "duration": 6,
    "start_time": "2022-05-17T21:37:01.304Z"
   },
   {
    "duration": 28,
    "start_time": "2022-05-17T21:37:01.312Z"
   },
   {
    "duration": 42,
    "start_time": "2022-05-17T21:50:13.166Z"
   },
   {
    "duration": 121,
    "start_time": "2022-05-17T21:52:02.482Z"
   },
   {
    "duration": 32,
    "start_time": "2022-05-17T21:52:48.650Z"
   },
   {
    "duration": 27,
    "start_time": "2022-05-17T21:53:54.369Z"
   },
   {
    "duration": 27,
    "start_time": "2022-05-17T21:54:17.465Z"
   },
   {
    "duration": 332,
    "start_time": "2022-05-17T21:55:13.309Z"
   },
   {
    "duration": 280,
    "start_time": "2022-05-17T21:57:14.322Z"
   },
   {
    "duration": 29,
    "start_time": "2022-05-17T21:59:13.603Z"
   },
   {
    "duration": 422,
    "start_time": "2022-05-17T21:59:35.575Z"
   },
   {
    "duration": 640,
    "start_time": "2022-05-17T21:59:57.711Z"
   },
   {
    "duration": 156,
    "start_time": "2022-05-17T22:03:37.304Z"
   },
   {
    "duration": 338,
    "start_time": "2022-05-17T22:04:07.984Z"
   },
   {
    "duration": 276,
    "start_time": "2022-05-17T22:05:34.699Z"
   },
   {
    "duration": 267,
    "start_time": "2022-05-17T22:05:43.007Z"
   },
   {
    "duration": 290,
    "start_time": "2022-05-17T22:08:45.338Z"
   },
   {
    "duration": 4,
    "start_time": "2022-05-17T22:10:57.391Z"
   },
   {
    "duration": 3,
    "start_time": "2022-05-17T22:11:43.842Z"
   },
   {
    "duration": 159,
    "start_time": "2022-05-17T22:11:58.787Z"
   },
   {
    "duration": 5,
    "start_time": "2022-05-17T22:13:25.890Z"
   },
   {
    "duration": 23,
    "start_time": "2022-05-17T22:13:27.952Z"
   },
   {
    "duration": 262,
    "start_time": "2022-05-17T22:13:45.737Z"
   },
   {
    "duration": 292,
    "start_time": "2022-05-17T22:14:33.777Z"
   },
   {
    "duration": 298,
    "start_time": "2022-05-17T22:16:26.768Z"
   },
   {
    "duration": 325,
    "start_time": "2022-05-17T22:17:18.756Z"
   },
   {
    "duration": 21,
    "start_time": "2022-05-17T22:18:01.613Z"
   },
   {
    "duration": 466,
    "start_time": "2022-05-17T22:18:23.218Z"
   },
   {
    "duration": 13,
    "start_time": "2022-05-17T22:18:54.413Z"
   },
   {
    "duration": 268,
    "start_time": "2022-05-17T22:19:05.211Z"
   },
   {
    "duration": 283,
    "start_time": "2022-05-17T22:24:54.209Z"
   },
   {
    "duration": 57,
    "start_time": "2022-05-18T19:38:35.918Z"
   },
   {
    "duration": 1961,
    "start_time": "2022-05-18T19:38:42.472Z"
   },
   {
    "duration": 103,
    "start_time": "2022-05-18T19:38:44.435Z"
   },
   {
    "duration": 19,
    "start_time": "2022-05-18T19:38:44.541Z"
   },
   {
    "duration": 21,
    "start_time": "2022-05-18T19:38:44.613Z"
   },
   {
    "duration": 210,
    "start_time": "2022-05-18T19:38:44.636Z"
   },
   {
    "duration": 14,
    "start_time": "2022-05-18T19:38:44.848Z"
   },
   {
    "duration": 44,
    "start_time": "2022-05-18T19:38:44.864Z"
   },
   {
    "duration": 114,
    "start_time": "2022-05-18T19:38:44.910Z"
   },
   {
    "duration": 10,
    "start_time": "2022-05-18T19:38:45.025Z"
   },
   {
    "duration": 30,
    "start_time": "2022-05-18T19:38:45.037Z"
   },
   {
    "duration": 146,
    "start_time": "2022-05-18T19:38:45.069Z"
   },
   {
    "duration": 0,
    "start_time": "2022-05-18T19:38:45.218Z"
   },
   {
    "duration": 12,
    "start_time": "2022-05-18T19:39:47.935Z"
   },
   {
    "duration": 17,
    "start_time": "2022-05-18T19:39:51.982Z"
   },
   {
    "duration": 9,
    "start_time": "2022-05-18T19:40:50.059Z"
   },
   {
    "duration": 14,
    "start_time": "2022-05-18T19:41:17.347Z"
   },
   {
    "duration": 10,
    "start_time": "2022-05-18T19:52:32.182Z"
   },
   {
    "duration": 15,
    "start_time": "2022-05-18T19:54:10.449Z"
   },
   {
    "duration": 155,
    "start_time": "2022-05-18T19:58:50.144Z"
   },
   {
    "duration": 99,
    "start_time": "2022-05-18T20:03:45.120Z"
   },
   {
    "duration": 55,
    "start_time": "2022-05-18T20:03:56.629Z"
   },
   {
    "duration": 29,
    "start_time": "2022-05-18T20:04:54.008Z"
   },
   {
    "duration": 33,
    "start_time": "2022-05-18T20:05:10.484Z"
   },
   {
    "duration": 52,
    "start_time": "2022-05-18T20:05:33.612Z"
   },
   {
    "duration": 171,
    "start_time": "2022-05-18T20:05:44.797Z"
   },
   {
    "duration": 363,
    "start_time": "2022-05-18T20:06:38.710Z"
   },
   {
    "duration": 346,
    "start_time": "2022-05-18T20:07:32.580Z"
   },
   {
    "duration": 854,
    "start_time": "2022-05-18T20:14:36.254Z"
   },
   {
    "duration": 156,
    "start_time": "2022-05-18T20:14:44.399Z"
   },
   {
    "duration": 190,
    "start_time": "2022-05-18T20:23:27.286Z"
   },
   {
    "duration": 483,
    "start_time": "2022-05-18T20:32:59.187Z"
   },
   {
    "duration": 729,
    "start_time": "2022-05-18T20:33:20.101Z"
   },
   {
    "duration": 730,
    "start_time": "2022-05-18T20:33:34.163Z"
   },
   {
    "duration": 772,
    "start_time": "2022-05-18T20:33:41.284Z"
   },
   {
    "duration": 761,
    "start_time": "2022-05-18T20:33:46.890Z"
   },
   {
    "duration": 606,
    "start_time": "2022-05-18T20:33:53.753Z"
   },
   {
    "duration": 580,
    "start_time": "2022-05-18T20:36:23.257Z"
   },
   {
    "duration": 580,
    "start_time": "2022-05-18T20:36:54.125Z"
   },
   {
    "duration": 659,
    "start_time": "2022-05-18T20:36:59.613Z"
   },
   {
    "duration": 699,
    "start_time": "2022-05-18T20:41:44.253Z"
   },
   {
    "duration": 447,
    "start_time": "2022-05-18T20:42:44.752Z"
   },
   {
    "duration": 668,
    "start_time": "2022-05-18T20:43:04.408Z"
   },
   {
    "duration": 340,
    "start_time": "2022-05-18T20:47:45.253Z"
   },
   {
    "duration": 795,
    "start_time": "2022-05-18T20:49:01.666Z"
   },
   {
    "duration": 304,
    "start_time": "2022-05-18T20:50:55.162Z"
   },
   {
    "duration": 757,
    "start_time": "2022-05-18T20:51:43.581Z"
   },
   {
    "duration": 573,
    "start_time": "2022-05-18T20:54:56.410Z"
   },
   {
    "duration": 498,
    "start_time": "2022-05-18T20:55:55.010Z"
   },
   {
    "duration": 21,
    "start_time": "2022-05-18T20:56:59.363Z"
   },
   {
    "duration": 21,
    "start_time": "2022-05-18T20:57:12.646Z"
   },
   {
    "duration": 26,
    "start_time": "2022-05-18T20:57:20.406Z"
   },
   {
    "duration": 493,
    "start_time": "2022-05-18T20:57:50.728Z"
   },
   {
    "duration": 22,
    "start_time": "2022-05-18T20:59:05.584Z"
   },
   {
    "duration": 500,
    "start_time": "2022-05-18T21:02:21.874Z"
   },
   {
    "duration": 471,
    "start_time": "2022-05-18T21:02:36.365Z"
   },
   {
    "duration": 32,
    "start_time": "2022-05-18T21:04:10.469Z"
   },
   {
    "duration": 834,
    "start_time": "2022-05-18T21:09:53.806Z"
   },
   {
    "duration": 728,
    "start_time": "2022-05-18T21:10:12.429Z"
   },
   {
    "duration": 24,
    "start_time": "2022-05-18T21:20:10.977Z"
   },
   {
    "duration": 1043,
    "start_time": "2022-05-18T21:20:19.858Z"
   },
   {
    "duration": 33,
    "start_time": "2022-05-18T21:20:20.903Z"
   },
   {
    "duration": 12,
    "start_time": "2022-05-18T21:20:20.938Z"
   },
   {
    "duration": 12,
    "start_time": "2022-05-18T21:20:20.952Z"
   },
   {
    "duration": 70,
    "start_time": "2022-05-18T21:20:20.966Z"
   },
   {
    "duration": 12,
    "start_time": "2022-05-18T21:20:21.037Z"
   },
   {
    "duration": 8,
    "start_time": "2022-05-18T21:20:21.050Z"
   },
   {
    "duration": 90,
    "start_time": "2022-05-18T21:20:21.059Z"
   },
   {
    "duration": 5,
    "start_time": "2022-05-18T21:20:21.151Z"
   },
   {
    "duration": 128,
    "start_time": "2022-05-18T21:20:21.158Z"
   },
   {
    "duration": 27,
    "start_time": "2022-05-18T21:20:21.287Z"
   },
   {
    "duration": 603,
    "start_time": "2022-05-18T21:20:21.316Z"
   },
   {
    "duration": 1107,
    "start_time": "2022-05-18T21:20:21.921Z"
   },
   {
    "duration": 0,
    "start_time": "2022-05-18T21:20:23.030Z"
   },
   {
    "duration": 11,
    "start_time": "2022-05-18T21:21:10.719Z"
   },
   {
    "duration": 462,
    "start_time": "2022-05-18T21:21:14.665Z"
   },
   {
    "duration": 1057,
    "start_time": "2022-05-18T21:21:31.771Z"
   },
   {
    "duration": 26,
    "start_time": "2022-05-18T21:21:54.850Z"
   },
   {
    "duration": 25,
    "start_time": "2022-05-18T21:22:11.334Z"
   },
   {
    "duration": 1340,
    "start_time": "2022-05-18T21:22:22.746Z"
   },
   {
    "duration": 1961,
    "start_time": "2022-05-18T21:22:31.873Z"
   },
   {
    "duration": 24,
    "start_time": "2022-05-18T21:22:37.744Z"
   },
   {
    "duration": 857,
    "start_time": "2022-05-18T21:22:38.961Z"
   },
   {
    "duration": 10,
    "start_time": "2022-05-18T21:22:48.600Z"
   },
   {
    "duration": 734,
    "start_time": "2022-05-18T21:22:49.490Z"
   },
   {
    "duration": 12,
    "start_time": "2022-05-18T21:23:43.265Z"
   },
   {
    "duration": 123,
    "start_time": "2022-05-18T21:24:37.626Z"
   },
   {
    "duration": 126,
    "start_time": "2022-05-18T21:25:04.078Z"
   },
   {
    "duration": 139,
    "start_time": "2022-05-18T21:25:42.804Z"
   },
   {
    "duration": 159,
    "start_time": "2022-05-18T21:26:07.239Z"
   },
   {
    "duration": 132,
    "start_time": "2022-05-18T21:28:53.410Z"
   },
   {
    "duration": 10,
    "start_time": "2022-05-18T21:35:06.863Z"
   },
   {
    "duration": 14,
    "start_time": "2022-05-18T21:35:18.727Z"
   },
   {
    "duration": 24,
    "start_time": "2022-05-18T21:36:11.327Z"
   },
   {
    "duration": 22,
    "start_time": "2022-05-18T21:36:55.638Z"
   },
   {
    "duration": 1081,
    "start_time": "2022-05-18T21:37:04.346Z"
   },
   {
    "duration": 37,
    "start_time": "2022-05-18T21:37:05.429Z"
   },
   {
    "duration": 16,
    "start_time": "2022-05-18T21:37:05.468Z"
   },
   {
    "duration": 17,
    "start_time": "2022-05-18T21:37:05.486Z"
   },
   {
    "duration": 87,
    "start_time": "2022-05-18T21:37:05.505Z"
   },
   {
    "duration": 14,
    "start_time": "2022-05-18T21:37:05.594Z"
   },
   {
    "duration": 24,
    "start_time": "2022-05-18T21:37:05.610Z"
   },
   {
    "duration": 90,
    "start_time": "2022-05-18T21:37:05.636Z"
   },
   {
    "duration": 8,
    "start_time": "2022-05-18T21:37:05.728Z"
   },
   {
    "duration": 120,
    "start_time": "2022-05-18T21:37:05.739Z"
   },
   {
    "duration": 21,
    "start_time": "2022-05-18T21:37:05.861Z"
   },
   {
    "duration": 298,
    "start_time": "2022-05-18T21:37:05.884Z"
   },
   {
    "duration": 12,
    "start_time": "2022-05-18T21:37:06.184Z"
   },
   {
    "duration": 864,
    "start_time": "2022-05-18T21:37:06.198Z"
   },
   {
    "duration": 136,
    "start_time": "2022-05-18T21:37:07.064Z"
   },
   {
    "duration": 138,
    "start_time": "2022-05-18T21:37:07.217Z"
   },
   {
    "duration": 24,
    "start_time": "2022-05-18T21:37:07.356Z"
   },
   {
    "duration": 24,
    "start_time": "2022-05-18T21:37:17.658Z"
   },
   {
    "duration": 16,
    "start_time": "2022-05-18T21:37:27.834Z"
   },
   {
    "duration": 1085,
    "start_time": "2022-05-18T21:39:45.675Z"
   },
   {
    "duration": 32,
    "start_time": "2022-05-18T21:39:46.762Z"
   },
   {
    "duration": 18,
    "start_time": "2022-05-18T21:39:46.795Z"
   },
   {
    "duration": 18,
    "start_time": "2022-05-18T21:39:46.821Z"
   },
   {
    "duration": 70,
    "start_time": "2022-05-18T21:39:46.841Z"
   },
   {
    "duration": 19,
    "start_time": "2022-05-18T21:39:46.920Z"
   },
   {
    "duration": 6,
    "start_time": "2022-05-18T21:39:46.941Z"
   },
   {
    "duration": 92,
    "start_time": "2022-05-18T21:39:46.948Z"
   },
   {
    "duration": 8,
    "start_time": "2022-05-18T21:39:47.043Z"
   },
   {
    "duration": 137,
    "start_time": "2022-05-18T21:39:47.053Z"
   },
   {
    "duration": 34,
    "start_time": "2022-05-18T21:39:47.192Z"
   },
   {
    "duration": 418,
    "start_time": "2022-05-18T21:39:47.230Z"
   },
   {
    "duration": 16,
    "start_time": "2022-05-18T21:39:47.651Z"
   },
   {
    "duration": 905,
    "start_time": "2022-05-18T21:39:47.669Z"
   },
   {
    "duration": 134,
    "start_time": "2022-05-18T21:39:48.576Z"
   },
   {
    "duration": 142,
    "start_time": "2022-05-18T21:39:48.712Z"
   },
   {
    "duration": 17,
    "start_time": "2022-05-18T21:39:48.856Z"
   },
   {
    "duration": 303,
    "start_time": "2022-05-18T21:39:48.874Z"
   },
   {
    "duration": 836,
    "start_time": "2022-05-18T21:40:33.454Z"
   },
   {
    "duration": 1105,
    "start_time": "2022-05-18T21:41:46.861Z"
   },
   {
    "duration": 32,
    "start_time": "2022-05-18T21:41:47.968Z"
   },
   {
    "duration": 21,
    "start_time": "2022-05-18T21:41:48.002Z"
   },
   {
    "duration": 13,
    "start_time": "2022-05-18T21:41:48.029Z"
   },
   {
    "duration": 75,
    "start_time": "2022-05-18T21:41:48.043Z"
   },
   {
    "duration": 15,
    "start_time": "2022-05-18T21:41:48.122Z"
   },
   {
    "duration": 9,
    "start_time": "2022-05-18T21:41:48.138Z"
   },
   {
    "duration": 85,
    "start_time": "2022-05-18T21:41:48.149Z"
   },
   {
    "duration": 6,
    "start_time": "2022-05-18T21:41:48.235Z"
   },
   {
    "duration": 124,
    "start_time": "2022-05-18T21:41:48.243Z"
   },
   {
    "duration": 19,
    "start_time": "2022-05-18T21:41:48.369Z"
   },
   {
    "duration": 291,
    "start_time": "2022-05-18T21:41:48.390Z"
   },
   {
    "duration": 13,
    "start_time": "2022-05-18T21:41:48.683Z"
   },
   {
    "duration": 856,
    "start_time": "2022-05-18T21:41:48.697Z"
   },
   {
    "duration": 123,
    "start_time": "2022-05-18T21:41:49.555Z"
   },
   {
    "duration": 123,
    "start_time": "2022-05-18T21:41:49.679Z"
   },
   {
    "duration": 32,
    "start_time": "2022-05-18T21:41:49.804Z"
   },
   {
    "duration": 293,
    "start_time": "2022-05-18T21:41:49.838Z"
   },
   {
    "duration": 716,
    "start_time": "2022-05-18T21:41:50.133Z"
   },
   {
    "duration": 1128,
    "start_time": "2022-05-18T21:42:12.638Z"
   },
   {
    "duration": 34,
    "start_time": "2022-05-18T21:42:13.767Z"
   },
   {
    "duration": 23,
    "start_time": "2022-05-18T21:42:13.803Z"
   },
   {
    "duration": 12,
    "start_time": "2022-05-18T21:42:13.829Z"
   },
   {
    "duration": 71,
    "start_time": "2022-05-18T21:42:13.843Z"
   },
   {
    "duration": 15,
    "start_time": "2022-05-18T21:42:13.916Z"
   },
   {
    "duration": 10,
    "start_time": "2022-05-18T21:42:13.932Z"
   },
   {
    "duration": 86,
    "start_time": "2022-05-18T21:42:13.944Z"
   },
   {
    "duration": 7,
    "start_time": "2022-05-18T21:42:14.032Z"
   },
   {
    "duration": 139,
    "start_time": "2022-05-18T21:42:14.043Z"
   },
   {
    "duration": 18,
    "start_time": "2022-05-18T21:42:14.183Z"
   },
   {
    "duration": 271,
    "start_time": "2022-05-18T21:42:14.219Z"
   },
   {
    "duration": 22,
    "start_time": "2022-05-18T21:42:14.491Z"
   },
   {
    "duration": 852,
    "start_time": "2022-05-18T21:42:14.518Z"
   },
   {
    "duration": 130,
    "start_time": "2022-05-18T21:42:15.371Z"
   },
   {
    "duration": 132,
    "start_time": "2022-05-18T21:42:15.503Z"
   },
   {
    "duration": 18,
    "start_time": "2022-05-18T21:42:15.637Z"
   },
   {
    "duration": 292,
    "start_time": "2022-05-18T21:42:15.656Z"
   },
   {
    "duration": 759,
    "start_time": "2022-05-18T21:42:15.950Z"
   },
   {
    "duration": 261,
    "start_time": "2022-05-18T21:48:05.204Z"
   },
   {
    "duration": 130,
    "start_time": "2022-05-18T21:48:20.360Z"
   },
   {
    "duration": 6,
    "start_time": "2022-05-18T21:59:47.691Z"
   },
   {
    "duration": 4,
    "start_time": "2022-05-18T22:00:47.258Z"
   },
   {
    "duration": 41,
    "start_time": "2022-05-18T22:01:39.286Z"
   },
   {
    "duration": 5,
    "start_time": "2022-05-18T22:01:56.491Z"
   },
   {
    "duration": 6,
    "start_time": "2022-05-18T22:02:54.281Z"
   },
   {
    "duration": 8,
    "start_time": "2022-05-18T22:06:25.647Z"
   },
   {
    "duration": 11,
    "start_time": "2022-05-18T22:06:41.110Z"
   },
   {
    "duration": 7,
    "start_time": "2022-05-18T22:07:07.728Z"
   },
   {
    "duration": 9,
    "start_time": "2022-05-18T22:07:19.410Z"
   },
   {
    "duration": 15,
    "start_time": "2022-05-18T22:13:54.968Z"
   },
   {
    "duration": 1078,
    "start_time": "2022-05-18T22:14:39.944Z"
   },
   {
    "duration": 34,
    "start_time": "2022-05-18T22:14:41.027Z"
   },
   {
    "duration": 13,
    "start_time": "2022-05-18T22:14:41.063Z"
   },
   {
    "duration": 14,
    "start_time": "2022-05-18T22:14:41.078Z"
   },
   {
    "duration": 86,
    "start_time": "2022-05-18T22:14:41.094Z"
   },
   {
    "duration": 12,
    "start_time": "2022-05-18T22:14:41.182Z"
   },
   {
    "duration": 6,
    "start_time": "2022-05-18T22:14:41.196Z"
   },
   {
    "duration": 81,
    "start_time": "2022-05-18T22:14:41.204Z"
   },
   {
    "duration": 6,
    "start_time": "2022-05-18T22:14:41.287Z"
   },
   {
    "duration": 135,
    "start_time": "2022-05-18T22:14:41.296Z"
   },
   {
    "duration": 27,
    "start_time": "2022-05-18T22:14:41.434Z"
   },
   {
    "duration": 311,
    "start_time": "2022-05-18T22:14:41.463Z"
   },
   {
    "duration": 11,
    "start_time": "2022-05-18T22:14:41.776Z"
   },
   {
    "duration": 878,
    "start_time": "2022-05-18T22:14:41.788Z"
   },
   {
    "duration": 123,
    "start_time": "2022-05-18T22:14:42.667Z"
   },
   {
    "duration": 138,
    "start_time": "2022-05-18T22:14:42.792Z"
   },
   {
    "duration": 25,
    "start_time": "2022-05-18T22:14:42.932Z"
   },
   {
    "duration": 283,
    "start_time": "2022-05-18T22:14:42.959Z"
   },
   {
    "duration": 747,
    "start_time": "2022-05-18T22:14:43.244Z"
   },
   {
    "duration": 7,
    "start_time": "2022-05-18T22:14:43.992Z"
   },
   {
    "duration": 17,
    "start_time": "2022-05-18T22:14:44.012Z"
   },
   {
    "duration": 13,
    "start_time": "2022-05-18T22:20:51.051Z"
   },
   {
    "duration": 16,
    "start_time": "2022-05-18T22:20:59.203Z"
   },
   {
    "duration": 9,
    "start_time": "2022-05-18T22:24:55.861Z"
   },
   {
    "duration": 8,
    "start_time": "2022-05-18T22:25:46.077Z"
   },
   {
    "duration": 5,
    "start_time": "2022-05-18T22:25:54.483Z"
   },
   {
    "duration": 24,
    "start_time": "2022-05-18T22:32:41.708Z"
   },
   {
    "duration": 1103,
    "start_time": "2022-05-18T22:32:57.150Z"
   },
   {
    "duration": 33,
    "start_time": "2022-05-18T22:32:58.255Z"
   },
   {
    "duration": 12,
    "start_time": "2022-05-18T22:32:58.289Z"
   },
   {
    "duration": 16,
    "start_time": "2022-05-18T22:32:58.303Z"
   },
   {
    "duration": 111,
    "start_time": "2022-05-18T22:32:58.321Z"
   },
   {
    "duration": 14,
    "start_time": "2022-05-18T22:32:58.436Z"
   },
   {
    "duration": 7,
    "start_time": "2022-05-18T22:32:58.451Z"
   },
   {
    "duration": 92,
    "start_time": "2022-05-18T22:32:58.460Z"
   },
   {
    "duration": 6,
    "start_time": "2022-05-18T22:32:58.553Z"
   },
   {
    "duration": 130,
    "start_time": "2022-05-18T22:32:58.562Z"
   },
   {
    "duration": 30,
    "start_time": "2022-05-18T22:32:58.693Z"
   },
   {
    "duration": 295,
    "start_time": "2022-05-18T22:32:58.735Z"
   },
   {
    "duration": 16,
    "start_time": "2022-05-18T22:32:59.031Z"
   },
   {
    "duration": 902,
    "start_time": "2022-05-18T22:32:59.048Z"
   },
   {
    "duration": 126,
    "start_time": "2022-05-18T22:32:59.952Z"
   },
   {
    "duration": 146,
    "start_time": "2022-05-18T22:33:00.080Z"
   },
   {
    "duration": 22,
    "start_time": "2022-05-18T22:33:00.232Z"
   },
   {
    "duration": 300,
    "start_time": "2022-05-18T22:33:00.256Z"
   },
   {
    "duration": 802,
    "start_time": "2022-05-18T22:33:00.558Z"
   },
   {
    "duration": 8,
    "start_time": "2022-05-18T22:33:01.362Z"
   },
   {
    "duration": 78,
    "start_time": "2022-05-18T22:33:01.372Z"
   },
   {
    "duration": 0,
    "start_time": "2022-05-18T22:33:01.452Z"
   },
   {
    "duration": 15,
    "start_time": "2022-05-18T22:34:43.373Z"
   },
   {
    "duration": 105,
    "start_time": "2022-05-18T22:41:39.170Z"
   },
   {
    "duration": 100,
    "start_time": "2022-05-18T22:41:59.240Z"
   },
   {
    "duration": 96,
    "start_time": "2022-05-18T22:42:02.738Z"
   },
   {
    "duration": 109,
    "start_time": "2022-05-18T22:42:11.946Z"
   },
   {
    "duration": 110,
    "start_time": "2022-05-18T22:42:31.611Z"
   },
   {
    "duration": 100,
    "start_time": "2022-05-18T22:42:43.368Z"
   },
   {
    "duration": 854,
    "start_time": "2022-05-18T22:45:48.378Z"
   },
   {
    "duration": 582,
    "start_time": "2022-05-18T22:46:13.159Z"
   },
   {
    "duration": 460,
    "start_time": "2022-05-18T22:47:13.841Z"
   },
   {
    "duration": 443,
    "start_time": "2022-05-18T22:47:44.267Z"
   },
   {
    "duration": 1120,
    "start_time": "2022-05-18T22:49:54.249Z"
   },
   {
    "duration": 32,
    "start_time": "2022-05-18T22:49:55.371Z"
   },
   {
    "duration": 16,
    "start_time": "2022-05-18T22:49:55.405Z"
   },
   {
    "duration": 33,
    "start_time": "2022-05-18T22:49:55.426Z"
   },
   {
    "duration": 101,
    "start_time": "2022-05-18T22:49:55.461Z"
   },
   {
    "duration": 18,
    "start_time": "2022-05-18T22:49:55.564Z"
   },
   {
    "duration": 7,
    "start_time": "2022-05-18T22:49:55.584Z"
   },
   {
    "duration": 95,
    "start_time": "2022-05-18T22:49:55.593Z"
   },
   {
    "duration": 6,
    "start_time": "2022-05-18T22:49:55.690Z"
   },
   {
    "duration": 176,
    "start_time": "2022-05-18T22:49:55.699Z"
   },
   {
    "duration": 22,
    "start_time": "2022-05-18T22:49:55.876Z"
   },
   {
    "duration": 346,
    "start_time": "2022-05-18T22:49:55.900Z"
   },
   {
    "duration": 12,
    "start_time": "2022-05-18T22:49:56.248Z"
   },
   {
    "duration": 971,
    "start_time": "2022-05-18T22:49:56.262Z"
   },
   {
    "duration": 165,
    "start_time": "2022-05-18T22:49:57.236Z"
   },
   {
    "duration": 148,
    "start_time": "2022-05-18T22:49:57.403Z"
   },
   {
    "duration": 17,
    "start_time": "2022-05-18T22:49:57.552Z"
   },
   {
    "duration": 301,
    "start_time": "2022-05-18T22:49:57.571Z"
   },
   {
    "duration": 777,
    "start_time": "2022-05-18T22:49:57.874Z"
   },
   {
    "duration": 7,
    "start_time": "2022-05-18T22:49:58.653Z"
   },
   {
    "duration": 15,
    "start_time": "2022-05-18T22:49:58.662Z"
   },
   {
    "duration": 120,
    "start_time": "2022-05-18T22:49:58.679Z"
   },
   {
    "duration": 529,
    "start_time": "2022-05-18T22:49:58.801Z"
   },
   {
    "duration": 3,
    "start_time": "2022-05-18T22:52:25.654Z"
   },
   {
    "duration": 2033,
    "start_time": "2022-05-20T17:55:10.610Z"
   },
   {
    "duration": 105,
    "start_time": "2022-05-20T17:55:12.645Z"
   },
   {
    "duration": 13,
    "start_time": "2022-05-20T17:55:12.751Z"
   },
   {
    "duration": 13,
    "start_time": "2022-05-20T17:55:12.766Z"
   },
   {
    "duration": 183,
    "start_time": "2022-05-20T17:55:12.780Z"
   },
   {
    "duration": 12,
    "start_time": "2022-05-20T17:55:12.964Z"
   },
   {
    "duration": 10,
    "start_time": "2022-05-20T17:55:12.978Z"
   },
   {
    "duration": 95,
    "start_time": "2022-05-20T17:55:12.989Z"
   },
   {
    "duration": 6,
    "start_time": "2022-05-20T17:55:13.086Z"
   },
   {
    "duration": 137,
    "start_time": "2022-05-20T17:55:13.094Z"
   },
   {
    "duration": 30,
    "start_time": "2022-05-20T17:55:13.233Z"
   },
   {
    "duration": 298,
    "start_time": "2022-05-20T17:55:13.265Z"
   },
   {
    "duration": 10,
    "start_time": "2022-05-20T17:55:13.564Z"
   },
   {
    "duration": 991,
    "start_time": "2022-05-20T17:55:13.575Z"
   },
   {
    "duration": 125,
    "start_time": "2022-05-20T17:55:14.568Z"
   },
   {
    "duration": 151,
    "start_time": "2022-05-20T17:55:14.695Z"
   },
   {
    "duration": 23,
    "start_time": "2022-05-20T17:55:14.848Z"
   },
   {
    "duration": 360,
    "start_time": "2022-05-20T17:55:14.873Z"
   },
   {
    "duration": 845,
    "start_time": "2022-05-20T17:55:15.235Z"
   },
   {
    "duration": 8,
    "start_time": "2022-05-20T17:55:16.081Z"
   },
   {
    "duration": 18,
    "start_time": "2022-05-20T17:55:16.091Z"
   },
   {
    "duration": 143,
    "start_time": "2022-05-20T17:55:16.111Z"
   },
   {
    "duration": 487,
    "start_time": "2022-05-20T17:55:16.256Z"
   },
   {
    "duration": 33,
    "start_time": "2022-05-20T17:55:24.909Z"
   },
   {
    "duration": 31,
    "start_time": "2022-05-20T17:55:35.128Z"
   },
   {
    "duration": 1197,
    "start_time": "2022-05-20T17:56:14.604Z"
   },
   {
    "duration": 33,
    "start_time": "2022-05-20T17:56:15.803Z"
   },
   {
    "duration": 13,
    "start_time": "2022-05-20T17:56:15.838Z"
   },
   {
    "duration": 14,
    "start_time": "2022-05-20T17:56:15.853Z"
   },
   {
    "duration": 83,
    "start_time": "2022-05-20T17:56:15.869Z"
   },
   {
    "duration": 15,
    "start_time": "2022-05-20T17:56:15.953Z"
   },
   {
    "duration": 13,
    "start_time": "2022-05-20T17:56:15.969Z"
   },
   {
    "duration": 89,
    "start_time": "2022-05-20T17:56:15.984Z"
   },
   {
    "duration": 7,
    "start_time": "2022-05-20T17:56:16.074Z"
   },
   {
    "duration": 139,
    "start_time": "2022-05-20T17:56:16.083Z"
   },
   {
    "duration": 30,
    "start_time": "2022-05-20T17:56:16.224Z"
   },
   {
    "duration": 605,
    "start_time": "2022-05-20T17:56:16.256Z"
   },
   {
    "duration": 11,
    "start_time": "2022-05-20T17:56:16.863Z"
   },
   {
    "duration": 1525,
    "start_time": "2022-05-20T17:56:16.876Z"
   },
   {
    "duration": 135,
    "start_time": "2022-05-20T17:56:18.402Z"
   },
   {
    "duration": 126,
    "start_time": "2022-05-20T17:56:18.538Z"
   },
   {
    "duration": 19,
    "start_time": "2022-05-20T17:56:18.666Z"
   },
   {
    "duration": 293,
    "start_time": "2022-05-20T17:56:18.686Z"
   },
   {
    "duration": 777,
    "start_time": "2022-05-20T17:56:18.981Z"
   },
   {
    "duration": 7,
    "start_time": "2022-05-20T17:56:19.760Z"
   },
   {
    "duration": 15,
    "start_time": "2022-05-20T17:56:19.768Z"
   },
   {
    "duration": 143,
    "start_time": "2022-05-20T17:56:19.784Z"
   },
   {
    "duration": 568,
    "start_time": "2022-05-20T17:56:19.930Z"
   },
   {
    "duration": 29,
    "start_time": "2022-05-20T17:56:28.406Z"
   },
   {
    "duration": 12,
    "start_time": "2022-05-20T17:56:34.436Z"
   },
   {
    "duration": 28,
    "start_time": "2022-05-20T17:56:40.835Z"
   },
   {
    "duration": 29,
    "start_time": "2022-05-20T17:56:45.373Z"
   },
   {
    "duration": 31,
    "start_time": "2022-05-20T17:56:50.559Z"
   },
   {
    "duration": 13,
    "start_time": "2022-05-20T17:56:58.142Z"
   },
   {
    "duration": 14,
    "start_time": "2022-05-20T17:57:05.994Z"
   },
   {
    "duration": 392,
    "start_time": "2022-05-20T18:04:59.462Z"
   },
   {
    "duration": 877,
    "start_time": "2022-05-20T18:05:26.454Z"
   },
   {
    "duration": 839,
    "start_time": "2022-05-20T18:05:50.596Z"
   },
   {
    "duration": 795,
    "start_time": "2022-05-20T18:05:59.093Z"
   },
   {
    "duration": 854,
    "start_time": "2022-05-20T18:07:49.599Z"
   },
   {
    "duration": 821,
    "start_time": "2022-05-20T18:08:10.884Z"
   },
   {
    "duration": 908,
    "start_time": "2022-05-20T18:08:25.791Z"
   },
   {
    "duration": 20,
    "start_time": "2022-05-20T18:21:33.280Z"
   },
   {
    "duration": 1233,
    "start_time": "2022-05-20T18:21:38.965Z"
   },
   {
    "duration": 34,
    "start_time": "2022-05-20T18:21:40.200Z"
   },
   {
    "duration": 14,
    "start_time": "2022-05-20T18:21:40.236Z"
   },
   {
    "duration": 18,
    "start_time": "2022-05-20T18:21:40.253Z"
   },
   {
    "duration": 74,
    "start_time": "2022-05-20T18:21:40.273Z"
   },
   {
    "duration": 15,
    "start_time": "2022-05-20T18:21:40.349Z"
   },
   {
    "duration": 7,
    "start_time": "2022-05-20T18:21:40.366Z"
   },
   {
    "duration": 105,
    "start_time": "2022-05-20T18:21:40.374Z"
   },
   {
    "duration": 6,
    "start_time": "2022-05-20T18:21:40.481Z"
   },
   {
    "duration": 137,
    "start_time": "2022-05-20T18:21:40.490Z"
   },
   {
    "duration": 26,
    "start_time": "2022-05-20T18:21:40.629Z"
   },
   {
    "duration": 333,
    "start_time": "2022-05-20T18:21:40.657Z"
   },
   {
    "duration": 12,
    "start_time": "2022-05-20T18:21:40.992Z"
   },
   {
    "duration": 1022,
    "start_time": "2022-05-20T18:21:41.006Z"
   },
   {
    "duration": 139,
    "start_time": "2022-05-20T18:21:42.030Z"
   },
   {
    "duration": 174,
    "start_time": "2022-05-20T18:21:42.171Z"
   },
   {
    "duration": 25,
    "start_time": "2022-05-20T18:21:42.347Z"
   },
   {
    "duration": 344,
    "start_time": "2022-05-20T18:21:42.374Z"
   },
   {
    "duration": 914,
    "start_time": "2022-05-20T18:21:42.721Z"
   },
   {
    "duration": 12,
    "start_time": "2022-05-20T18:21:43.637Z"
   },
   {
    "duration": 14,
    "start_time": "2022-05-20T18:21:43.651Z"
   },
   {
    "duration": 134,
    "start_time": "2022-05-20T18:21:43.667Z"
   },
   {
    "duration": 543,
    "start_time": "2022-05-20T18:21:43.803Z"
   },
   {
    "duration": 902,
    "start_time": "2022-05-20T18:23:27.333Z"
   },
   {
    "duration": 419,
    "start_time": "2022-05-20T18:28:28.211Z"
   },
   {
    "duration": 1150,
    "start_time": "2022-05-20T18:33:08.186Z"
   },
   {
    "duration": 36,
    "start_time": "2022-05-20T18:33:09.338Z"
   },
   {
    "duration": 13,
    "start_time": "2022-05-20T18:33:09.376Z"
   },
   {
    "duration": 13,
    "start_time": "2022-05-20T18:33:09.391Z"
   },
   {
    "duration": 71,
    "start_time": "2022-05-20T18:33:09.405Z"
   },
   {
    "duration": 13,
    "start_time": "2022-05-20T18:33:09.478Z"
   },
   {
    "duration": 6,
    "start_time": "2022-05-20T18:33:09.492Z"
   },
   {
    "duration": 90,
    "start_time": "2022-05-20T18:33:09.500Z"
   },
   {
    "duration": 6,
    "start_time": "2022-05-20T18:33:09.592Z"
   },
   {
    "duration": 126,
    "start_time": "2022-05-20T18:33:09.600Z"
   },
   {
    "duration": 38,
    "start_time": "2022-05-20T18:33:09.728Z"
   },
   {
    "duration": 334,
    "start_time": "2022-05-20T18:33:09.767Z"
   },
   {
    "duration": 11,
    "start_time": "2022-05-20T18:33:10.102Z"
   },
   {
    "duration": 954,
    "start_time": "2022-05-20T18:33:10.115Z"
   },
   {
    "duration": 143,
    "start_time": "2022-05-20T18:33:11.071Z"
   },
   {
    "duration": 141,
    "start_time": "2022-05-20T18:33:11.216Z"
   },
   {
    "duration": 18,
    "start_time": "2022-05-20T18:33:11.358Z"
   },
   {
    "duration": 314,
    "start_time": "2022-05-20T18:33:11.378Z"
   },
   {
    "duration": 834,
    "start_time": "2022-05-20T18:33:11.693Z"
   },
   {
    "duration": 25,
    "start_time": "2022-05-20T18:33:12.528Z"
   },
   {
    "duration": 17,
    "start_time": "2022-05-20T18:33:12.555Z"
   },
   {
    "duration": 0,
    "start_time": "2022-05-20T18:33:12.573Z"
   },
   {
    "duration": 0,
    "start_time": "2022-05-20T18:33:12.574Z"
   },
   {
    "duration": 0,
    "start_time": "2022-05-20T18:33:12.575Z"
   },
   {
    "duration": 29,
    "start_time": "2022-05-20T18:33:50.658Z"
   },
   {
    "duration": 17,
    "start_time": "2022-05-20T18:34:15.943Z"
   },
   {
    "duration": 122,
    "start_time": "2022-05-20T18:34:33.471Z"
   },
   {
    "duration": 137,
    "start_time": "2022-05-20T18:34:44.321Z"
   },
   {
    "duration": 132,
    "start_time": "2022-05-20T18:34:51.563Z"
   },
   {
    "duration": 485,
    "start_time": "2022-05-20T18:35:03.078Z"
   },
   {
    "duration": 692,
    "start_time": "2022-05-20T18:39:30.050Z"
   },
   {
    "duration": 2515,
    "start_time": "2022-05-20T18:39:50.003Z"
   },
   {
    "duration": 560,
    "start_time": "2022-05-20T18:39:56.007Z"
   },
   {
    "duration": 946,
    "start_time": "2022-05-20T18:43:04.136Z"
   },
   {
    "duration": 1015,
    "start_time": "2022-05-20T18:43:12.444Z"
   },
   {
    "duration": 1105,
    "start_time": "2022-05-20T18:45:24.557Z"
   },
   {
    "duration": 33,
    "start_time": "2022-05-20T18:45:25.664Z"
   },
   {
    "duration": 13,
    "start_time": "2022-05-20T18:45:25.699Z"
   },
   {
    "duration": 13,
    "start_time": "2022-05-20T18:45:25.714Z"
   },
   {
    "duration": 77,
    "start_time": "2022-05-20T18:45:25.729Z"
   },
   {
    "duration": 11,
    "start_time": "2022-05-20T18:45:25.808Z"
   },
   {
    "duration": 6,
    "start_time": "2022-05-20T18:45:25.821Z"
   },
   {
    "duration": 76,
    "start_time": "2022-05-20T18:45:25.829Z"
   },
   {
    "duration": 5,
    "start_time": "2022-05-20T18:45:25.907Z"
   },
   {
    "duration": 132,
    "start_time": "2022-05-20T18:45:25.915Z"
   },
   {
    "duration": 23,
    "start_time": "2022-05-20T18:45:26.048Z"
   },
   {
    "duration": 294,
    "start_time": "2022-05-20T18:45:26.073Z"
   },
   {
    "duration": 11,
    "start_time": "2022-05-20T18:45:26.369Z"
   },
   {
    "duration": 1012,
    "start_time": "2022-05-20T18:45:26.381Z"
   },
   {
    "duration": 143,
    "start_time": "2022-05-20T18:45:27.395Z"
   },
   {
    "duration": 125,
    "start_time": "2022-05-20T18:45:27.542Z"
   },
   {
    "duration": 17,
    "start_time": "2022-05-20T18:45:27.669Z"
   },
   {
    "duration": 303,
    "start_time": "2022-05-20T18:45:27.687Z"
   },
   {
    "duration": 903,
    "start_time": "2022-05-20T18:45:27.992Z"
   },
   {
    "duration": 9,
    "start_time": "2022-05-20T18:45:28.896Z"
   },
   {
    "duration": 136,
    "start_time": "2022-05-20T18:45:28.907Z"
   },
   {
    "duration": 574,
    "start_time": "2022-05-20T18:45:29.052Z"
   },
   {
    "duration": 2112,
    "start_time": "2022-05-20T18:45:29.627Z"
   },
   {
    "duration": 524,
    "start_time": "2022-05-20T18:45:31.741Z"
   },
   {
    "duration": 1355,
    "start_time": "2022-05-22T18:35:05.455Z"
   },
   {
    "duration": 50,
    "start_time": "2022-05-22T18:35:06.813Z"
   },
   {
    "duration": 20,
    "start_time": "2022-05-22T18:35:06.865Z"
   },
   {
    "duration": 14,
    "start_time": "2022-05-22T18:35:06.888Z"
   },
   {
    "duration": 111,
    "start_time": "2022-05-22T18:35:06.905Z"
   },
   {
    "duration": 19,
    "start_time": "2022-05-22T18:35:07.018Z"
   },
   {
    "duration": 9,
    "start_time": "2022-05-22T18:35:07.039Z"
   },
   {
    "duration": 88,
    "start_time": "2022-05-22T18:35:07.050Z"
   },
   {
    "duration": 6,
    "start_time": "2022-05-22T18:35:07.140Z"
   },
   {
    "duration": 148,
    "start_time": "2022-05-22T18:35:07.148Z"
   },
   {
    "duration": 29,
    "start_time": "2022-05-22T18:35:07.298Z"
   },
   {
    "duration": 311,
    "start_time": "2022-05-22T18:35:07.330Z"
   },
   {
    "duration": 10,
    "start_time": "2022-05-22T18:35:07.642Z"
   },
   {
    "duration": 1041,
    "start_time": "2022-05-22T18:35:07.654Z"
   },
   {
    "duration": 130,
    "start_time": "2022-05-22T18:35:08.698Z"
   },
   {
    "duration": 147,
    "start_time": "2022-05-22T18:35:08.830Z"
   },
   {
    "duration": 29,
    "start_time": "2022-05-22T18:35:08.979Z"
   },
   {
    "duration": 328,
    "start_time": "2022-05-22T18:35:09.010Z"
   },
   {
    "duration": 953,
    "start_time": "2022-05-22T18:35:09.340Z"
   },
   {
    "duration": 8,
    "start_time": "2022-05-22T18:35:10.295Z"
   },
   {
    "duration": 275,
    "start_time": "2022-05-22T18:35:10.305Z"
   },
   {
    "duration": 929,
    "start_time": "2022-05-22T18:35:10.582Z"
   },
   {
    "duration": 2226,
    "start_time": "2022-05-22T18:35:11.513Z"
   },
   {
    "duration": 588,
    "start_time": "2022-05-22T18:35:13.740Z"
   },
   {
    "duration": 274,
    "start_time": "2022-05-22T18:36:55.585Z"
   },
   {
    "duration": 929,
    "start_time": "2022-05-22T18:37:02.974Z"
   },
   {
    "duration": 9,
    "start_time": "2022-05-22T18:37:29.012Z"
   },
   {
    "duration": 8,
    "start_time": "2022-05-22T18:37:56.825Z"
   },
   {
    "duration": 893,
    "start_time": "2022-05-22T18:40:06.270Z"
   },
   {
    "duration": 932,
    "start_time": "2022-05-22T18:40:25.900Z"
   },
   {
    "duration": 862,
    "start_time": "2022-05-22T18:41:10.801Z"
   },
   {
    "duration": 33,
    "start_time": "2022-05-22T18:41:41.285Z"
   },
   {
    "duration": 922,
    "start_time": "2022-05-22T18:42:14.702Z"
   },
   {
    "duration": 8,
    "start_time": "2022-05-22T18:49:47.118Z"
   },
   {
    "duration": 940,
    "start_time": "2022-05-22T18:51:17.854Z"
   },
   {
    "duration": 923,
    "start_time": "2022-05-22T18:52:53.426Z"
   },
   {
    "duration": 30,
    "start_time": "2022-05-22T18:55:42.737Z"
   },
   {
    "duration": 28,
    "start_time": "2022-05-22T18:56:24.158Z"
   },
   {
    "duration": 1939,
    "start_time": "2022-05-22T18:56:42.301Z"
   },
   {
    "duration": 26,
    "start_time": "2022-05-22T18:56:44.242Z"
   },
   {
    "duration": 70,
    "start_time": "2022-05-22T18:56:44.270Z"
   },
   {
    "duration": 25,
    "start_time": "2022-05-22T18:56:44.343Z"
   },
   {
    "duration": 163,
    "start_time": "2022-05-22T18:56:44.370Z"
   },
   {
    "duration": 19,
    "start_time": "2022-05-22T18:56:44.536Z"
   },
   {
    "duration": 69,
    "start_time": "2022-05-22T18:56:44.558Z"
   },
   {
    "duration": 326,
    "start_time": "2022-05-22T18:56:44.629Z"
   },
   {
    "duration": 8,
    "start_time": "2022-05-22T18:56:44.958Z"
   },
   {
    "duration": 409,
    "start_time": "2022-05-22T18:56:45.025Z"
   },
   {
    "duration": 26,
    "start_time": "2022-05-22T18:56:45.436Z"
   },
   {
    "duration": 333,
    "start_time": "2022-05-22T18:56:45.464Z"
   },
   {
    "duration": 26,
    "start_time": "2022-05-22T18:56:45.799Z"
   },
   {
    "duration": 993,
    "start_time": "2022-05-22T18:56:45.826Z"
   },
   {
    "duration": 185,
    "start_time": "2022-05-22T18:56:46.821Z"
   },
   {
    "duration": 143,
    "start_time": "2022-05-22T18:56:47.007Z"
   },
   {
    "duration": 20,
    "start_time": "2022-05-22T18:56:47.153Z"
   },
   {
    "duration": 319,
    "start_time": "2022-05-22T18:56:47.175Z"
   },
   {
    "duration": 964,
    "start_time": "2022-05-22T18:56:47.496Z"
   },
   {
    "duration": 8,
    "start_time": "2022-05-22T18:56:48.462Z"
   },
   {
    "duration": 293,
    "start_time": "2022-05-22T18:56:48.471Z"
   },
   {
    "duration": 23,
    "start_time": "2022-05-22T18:56:48.766Z"
   },
   {
    "duration": 1072,
    "start_time": "2022-05-22T18:56:48.790Z"
   },
   {
    "duration": 2371,
    "start_time": "2022-05-22T18:56:49.863Z"
   },
   {
    "duration": 564,
    "start_time": "2022-05-22T18:56:52.236Z"
   },
   {
    "duration": 37,
    "start_time": "2022-05-22T18:57:54.317Z"
   },
   {
    "duration": 14,
    "start_time": "2022-05-22T18:59:24.853Z"
   },
   {
    "duration": 1222,
    "start_time": "2022-05-22T19:00:19.258Z"
   },
   {
    "duration": 25,
    "start_time": "2022-05-22T19:00:20.483Z"
   },
   {
    "duration": 22,
    "start_time": "2022-05-22T19:00:20.510Z"
   },
   {
    "duration": 18,
    "start_time": "2022-05-22T19:00:20.534Z"
   },
   {
    "duration": 56,
    "start_time": "2022-05-22T19:00:20.554Z"
   },
   {
    "duration": 20,
    "start_time": "2022-05-22T19:00:20.612Z"
   },
   {
    "duration": 13,
    "start_time": "2022-05-22T19:00:20.634Z"
   },
   {
    "duration": 98,
    "start_time": "2022-05-22T19:00:20.648Z"
   },
   {
    "duration": 7,
    "start_time": "2022-05-22T19:00:20.748Z"
   },
   {
    "duration": 138,
    "start_time": "2022-05-22T19:00:20.757Z"
   },
   {
    "duration": 29,
    "start_time": "2022-05-22T19:00:20.897Z"
   },
   {
    "duration": 327,
    "start_time": "2022-05-22T19:00:20.928Z"
   },
   {
    "duration": 13,
    "start_time": "2022-05-22T19:00:21.257Z"
   },
   {
    "duration": 977,
    "start_time": "2022-05-22T19:00:21.274Z"
   },
   {
    "duration": 155,
    "start_time": "2022-05-22T19:00:22.254Z"
   },
   {
    "duration": 167,
    "start_time": "2022-05-22T19:00:22.411Z"
   },
   {
    "duration": 29,
    "start_time": "2022-05-22T19:00:22.580Z"
   },
   {
    "duration": 390,
    "start_time": "2022-05-22T19:00:22.624Z"
   },
   {
    "duration": 966,
    "start_time": "2022-05-22T19:00:23.016Z"
   },
   {
    "duration": 12,
    "start_time": "2022-05-22T19:00:23.985Z"
   },
   {
    "duration": 296,
    "start_time": "2022-05-22T19:00:23.999Z"
   },
   {
    "duration": 948,
    "start_time": "2022-05-22T19:00:24.297Z"
   },
   {
    "duration": 2286,
    "start_time": "2022-05-22T19:00:25.247Z"
   },
   {
    "duration": 519,
    "start_time": "2022-05-22T19:00:27.535Z"
   },
   {
    "duration": 1171,
    "start_time": "2022-05-22T19:01:10.178Z"
   },
   {
    "duration": 25,
    "start_time": "2022-05-22T19:01:11.352Z"
   },
   {
    "duration": 14,
    "start_time": "2022-05-22T19:01:11.379Z"
   },
   {
    "duration": 14,
    "start_time": "2022-05-22T19:01:11.396Z"
   },
   {
    "duration": 50,
    "start_time": "2022-05-22T19:01:11.424Z"
   },
   {
    "duration": 14,
    "start_time": "2022-05-22T19:01:11.476Z"
   },
   {
    "duration": 18,
    "start_time": "2022-05-22T19:01:11.491Z"
   },
   {
    "duration": 85,
    "start_time": "2022-05-22T19:01:11.511Z"
   },
   {
    "duration": 6,
    "start_time": "2022-05-22T19:01:11.598Z"
   },
   {
    "duration": 138,
    "start_time": "2022-05-22T19:01:11.607Z"
   },
   {
    "duration": 14,
    "start_time": "2022-05-22T19:01:11.747Z"
   },
   {
    "duration": 330,
    "start_time": "2022-05-22T19:01:11.763Z"
   },
   {
    "duration": 11,
    "start_time": "2022-05-22T19:01:12.095Z"
   },
   {
    "duration": 1063,
    "start_time": "2022-05-22T19:01:12.108Z"
   },
   {
    "duration": 133,
    "start_time": "2022-05-22T19:01:13.173Z"
   },
   {
    "duration": 128,
    "start_time": "2022-05-22T19:01:13.308Z"
   },
   {
    "duration": 25,
    "start_time": "2022-05-22T19:01:13.438Z"
   },
   {
    "duration": 305,
    "start_time": "2022-05-22T19:01:13.465Z"
   },
   {
    "duration": 828,
    "start_time": "2022-05-22T19:01:13.771Z"
   },
   {
    "duration": 8,
    "start_time": "2022-05-22T19:01:14.601Z"
   },
   {
    "duration": 270,
    "start_time": "2022-05-22T19:01:14.610Z"
   },
   {
    "duration": 922,
    "start_time": "2022-05-22T19:01:14.882Z"
   },
   {
    "duration": 2189,
    "start_time": "2022-05-22T19:01:15.806Z"
   },
   {
    "duration": 532,
    "start_time": "2022-05-22T19:01:17.997Z"
   }
  ],
  "kernelspec": {
   "display_name": "Python 3 (ipykernel)",
   "language": "python",
   "name": "python3"
  },
  "language_info": {
   "codemirror_mode": {
    "name": "ipython",
    "version": 3
   },
   "file_extension": ".py",
   "mimetype": "text/x-python",
   "name": "python",
   "nbconvert_exporter": "python",
   "pygments_lexer": "ipython3",
   "version": "3.9.12"
  },
  "toc": {
   "base_numbering": 1,
   "nav_menu": {},
   "number_sections": true,
   "sideBar": true,
   "skip_h1_title": true,
   "title_cell": "Содержание",
   "title_sidebar": "Contents",
   "toc_cell": true,
   "toc_position": {
    "height": "calc(100% - 180px)",
    "left": "10px",
    "top": "150px",
    "width": "198px"
   },
   "toc_section_display": true,
   "toc_window_display": true
  }
 },
 "nbformat": 4,
 "nbformat_minor": 2
}
